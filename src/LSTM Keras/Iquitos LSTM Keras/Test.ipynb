{
 "cells": [
  {
   "cell_type": "code",
   "execution_count": 35,
   "id": "5b5ead42",
   "metadata": {},
   "outputs": [],
   "source": [
    "import pandas as pd\n",
    "import numpy as np\n",
    "from tensorflow.keras.models import load_model"
   ]
  },
  {
   "cell_type": "code",
   "execution_count": 36,
   "id": "9e0720b1",
   "metadata": {},
   "outputs": [],
   "source": [
    "## ---- Notebook Variables ---- ##\n",
    "nb_variables = {'window': 4}"
   ]
  },
  {
   "cell_type": "code",
   "execution_count": 37,
   "id": "ad6fd203",
   "metadata": {},
   "outputs": [],
   "source": [
    "# ---- Testing ---- #\n",
    "x_test = pd.read_csv('../dengue_features_test.csv', index_col = 0)\n",
    "x_test = x_test.loc['iq']\n",
    "x_test = x_test.set_index('week_start_date')\n",
    "x_test.index = pd.to_datetime(x_test.index)\n",
    "x_test.sort_index(inplace = True)"
   ]
  },
  {
   "cell_type": "code",
   "execution_count": 38,
   "id": "94d643d3",
   "metadata": {},
   "outputs": [],
   "source": [
    "## ----- Further Data Engineering (Same as Training Set)----- ##"
   ]
  },
  {
   "cell_type": "code",
   "execution_count": 39,
   "id": "5a3bdaa0",
   "metadata": {},
   "outputs": [],
   "source": [
    "x_test.drop(['ndvi_ne', 'ndvi_nw'], axis = 1, inplace = True)\n",
    "x_test.drop('reanalysis_sat_precip_amt_mm', axis = 1, inplace = True)\n",
    "x_test[['reanalysis_air_temp_k', 'reanalysis_avg_temp_k', 'reanalysis_dew_point_temp_k',\n",
    "        'reanalysis_max_air_temp_k', 'reanalysis_min_air_temp_k']] += -273.15"
   ]
  },
  {
   "cell_type": "code",
   "execution_count": 40,
   "id": "c0df5890",
   "metadata": {},
   "outputs": [],
   "source": [
    "min_temp = pd.Series(np.mean(x_test[[col for col in x_test.columns if '_min_' in col]].values, axis = 1))\n",
    "min_temp.index = x_test.index\n",
    "x_test['min_temp'] = min_temp\n",
    "x_test.drop([col for col in x_test.columns if '_min_' in col], axis = 1, inplace = True)"
   ]
  },
  {
   "cell_type": "code",
   "execution_count": 41,
   "id": "3b36470c",
   "metadata": {},
   "outputs": [],
   "source": [
    "max_temp = pd.Series(np.mean(x_test[[col for col in x_test.columns if '_max_' in col]].values, axis = 1))\n",
    "max_temp.index = x_test.index\n",
    "x_test['max_temp'] = max_temp\n",
    "x_test.drop([col for col in x_test.columns if '_max_' in col], axis = 1, inplace = True)"
   ]
  },
  {
   "cell_type": "code",
   "execution_count": 42,
   "id": "7ccbfe9e",
   "metadata": {},
   "outputs": [],
   "source": [
    "reanalysis_avg_temp_c = pd.Series(np.mean(x_test[['reanalysis_avg_temp_k', 'reanalysis_air_temp_k']], axis = 1))\n",
    "reanalysis_avg_temp_c.index = x_test.index\n",
    "x_test['reanalysis_avg_temp_c'] = reanalysis_avg_temp_c\n",
    "x_test.drop(['reanalysis_avg_temp_k', 'reanalysis_air_temp_k'], axis = 1, inplace = True)"
   ]
  },
  {
   "cell_type": "code",
   "execution_count": 43,
   "id": "94f9c451",
   "metadata": {},
   "outputs": [],
   "source": [
    "cols = x_test.columns.tolist()\n",
    "cols = cols[-3:] + cols[:-3]"
   ]
  },
  {
   "cell_type": "code",
   "execution_count": 44,
   "id": "e68b1df4",
   "metadata": {},
   "outputs": [],
   "source": [
    "df = pd.read_csv('df_for_testing.csv', index_col = 0)\n",
    "df.index = pd.to_datetime(df.index)\n",
    "df.sort_index(inplace = True)"
   ]
  },
  {
   "cell_type": "code",
   "execution_count": 45,
   "id": "23915240",
   "metadata": {},
   "outputs": [],
   "source": [
    "# Importan line for later. WE KEEP IT!\n",
    "dates_needed = df.index[df.index < x_test.index[0]][-nb_variables['window']:]\n",
    "rows_needed = df.loc[dates_needed].drop('total_cases', axis = 1)"
   ]
  },
  {
   "cell_type": "code",
   "execution_count": 46,
   "id": "291bdac4",
   "metadata": {},
   "outputs": [
    {
     "data": {
      "text/html": [
       "<div>\n",
       "<style scoped>\n",
       "    .dataframe tbody tr th:only-of-type {\n",
       "        vertical-align: middle;\n",
       "    }\n",
       "\n",
       "    .dataframe tbody tr th {\n",
       "        vertical-align: top;\n",
       "    }\n",
       "\n",
       "    .dataframe thead th {\n",
       "        text-align: right;\n",
       "    }\n",
       "</style>\n",
       "<table border=\"1\" class=\"dataframe\">\n",
       "  <thead>\n",
       "    <tr style=\"text-align: right;\">\n",
       "      <th></th>\n",
       "      <th>year</th>\n",
       "      <th>weekofyear</th>\n",
       "      <th>ndvi_se</th>\n",
       "      <th>ndvi_sw</th>\n",
       "      <th>precipitation_amt_mm</th>\n",
       "      <th>reanalysis_dew_point_temp_k</th>\n",
       "      <th>reanalysis_precip_amt_kg_per_m2</th>\n",
       "      <th>reanalysis_relative_humidity_percent</th>\n",
       "      <th>reanalysis_specific_humidity_g_per_kg</th>\n",
       "      <th>reanalysis_tdtr_k</th>\n",
       "      <th>station_avg_temp_c</th>\n",
       "      <th>station_diur_temp_rng_c</th>\n",
       "      <th>station_precip_mm</th>\n",
       "      <th>min_temp</th>\n",
       "      <th>max_temp</th>\n",
       "      <th>reanalysis_avg_temp_c</th>\n",
       "    </tr>\n",
       "    <tr>\n",
       "      <th>week_start_date</th>\n",
       "      <th></th>\n",
       "      <th></th>\n",
       "      <th></th>\n",
       "      <th></th>\n",
       "      <th></th>\n",
       "      <th></th>\n",
       "      <th></th>\n",
       "      <th></th>\n",
       "      <th></th>\n",
       "      <th></th>\n",
       "      <th></th>\n",
       "      <th></th>\n",
       "      <th></th>\n",
       "      <th></th>\n",
       "      <th></th>\n",
       "      <th></th>\n",
       "    </tr>\n",
       "  </thead>\n",
       "  <tbody>\n",
       "    <tr>\n",
       "      <th>2010-06-04</th>\n",
       "      <td>2010</td>\n",
       "      <td>22</td>\n",
       "      <td>0.136043</td>\n",
       "      <td>0.225657</td>\n",
       "      <td>86.47</td>\n",
       "      <td>23.302857</td>\n",
       "      <td>207.10</td>\n",
       "      <td>91.600000</td>\n",
       "      <td>18.070000</td>\n",
       "      <td>7.471429</td>\n",
       "      <td>27.433333</td>\n",
       "      <td>10.500000</td>\n",
       "      <td>36.6</td>\n",
       "      <td>20.225</td>\n",
       "      <td>35.025</td>\n",
       "      <td>25.711429</td>\n",
       "    </tr>\n",
       "    <tr>\n",
       "      <th>2010-06-11</th>\n",
       "      <td>2010</td>\n",
       "      <td>23</td>\n",
       "      <td>0.250357</td>\n",
       "      <td>0.233714</td>\n",
       "      <td>58.94</td>\n",
       "      <td>22.351429</td>\n",
       "      <td>50.60</td>\n",
       "      <td>94.280000</td>\n",
       "      <td>17.008571</td>\n",
       "      <td>7.500000</td>\n",
       "      <td>24.400000</td>\n",
       "      <td>6.900000</td>\n",
       "      <td>7.4</td>\n",
       "      <td>19.225</td>\n",
       "      <td>32.275</td>\n",
       "      <td>23.945714</td>\n",
       "    </tr>\n",
       "    <tr>\n",
       "      <th>2010-06-18</th>\n",
       "      <td>2010</td>\n",
       "      <td>24</td>\n",
       "      <td>0.278886</td>\n",
       "      <td>0.325486</td>\n",
       "      <td>59.67</td>\n",
       "      <td>22.174286</td>\n",
       "      <td>62.33</td>\n",
       "      <td>94.660000</td>\n",
       "      <td>16.815714</td>\n",
       "      <td>7.871429</td>\n",
       "      <td>25.433333</td>\n",
       "      <td>8.733333</td>\n",
       "      <td>16.0</td>\n",
       "      <td>19.875</td>\n",
       "      <td>32.075</td>\n",
       "      <td>23.783571</td>\n",
       "    </tr>\n",
       "    <tr>\n",
       "      <th>2010-06-25</th>\n",
       "      <td>2010</td>\n",
       "      <td>25</td>\n",
       "      <td>0.274214</td>\n",
       "      <td>0.315757</td>\n",
       "      <td>63.22</td>\n",
       "      <td>22.657143</td>\n",
       "      <td>36.90</td>\n",
       "      <td>89.082857</td>\n",
       "      <td>17.355714</td>\n",
       "      <td>11.014286</td>\n",
       "      <td>27.475000</td>\n",
       "      <td>9.900000</td>\n",
       "      <td>20.4</td>\n",
       "      <td>20.675</td>\n",
       "      <td>34.175</td>\n",
       "      <td>25.816429</td>\n",
       "    </tr>\n",
       "  </tbody>\n",
       "</table>\n",
       "</div>"
      ],
      "text/plain": [
       "                 year  weekofyear   ndvi_se   ndvi_sw  precipitation_amt_mm  \\\n",
       "week_start_date                                                               \n",
       "2010-06-04       2010          22  0.136043  0.225657                 86.47   \n",
       "2010-06-11       2010          23  0.250357  0.233714                 58.94   \n",
       "2010-06-18       2010          24  0.278886  0.325486                 59.67   \n",
       "2010-06-25       2010          25  0.274214  0.315757                 63.22   \n",
       "\n",
       "                 reanalysis_dew_point_temp_k  reanalysis_precip_amt_kg_per_m2  \\\n",
       "week_start_date                                                                 \n",
       "2010-06-04                         23.302857                           207.10   \n",
       "2010-06-11                         22.351429                            50.60   \n",
       "2010-06-18                         22.174286                            62.33   \n",
       "2010-06-25                         22.657143                            36.90   \n",
       "\n",
       "                 reanalysis_relative_humidity_percent  \\\n",
       "week_start_date                                         \n",
       "2010-06-04                                  91.600000   \n",
       "2010-06-11                                  94.280000   \n",
       "2010-06-18                                  94.660000   \n",
       "2010-06-25                                  89.082857   \n",
       "\n",
       "                 reanalysis_specific_humidity_g_per_kg  reanalysis_tdtr_k  \\\n",
       "week_start_date                                                             \n",
       "2010-06-04                                   18.070000           7.471429   \n",
       "2010-06-11                                   17.008571           7.500000   \n",
       "2010-06-18                                   16.815714           7.871429   \n",
       "2010-06-25                                   17.355714          11.014286   \n",
       "\n",
       "                 station_avg_temp_c  station_diur_temp_rng_c  \\\n",
       "week_start_date                                                \n",
       "2010-06-04                27.433333                10.500000   \n",
       "2010-06-11                24.400000                 6.900000   \n",
       "2010-06-18                25.433333                 8.733333   \n",
       "2010-06-25                27.475000                 9.900000   \n",
       "\n",
       "                 station_precip_mm  min_temp  max_temp  reanalysis_avg_temp_c  \n",
       "week_start_date                                                                \n",
       "2010-06-04                    36.6    20.225    35.025              25.711429  \n",
       "2010-06-11                     7.4    19.225    32.275              23.945714  \n",
       "2010-06-18                    16.0    19.875    32.075              23.783571  \n",
       "2010-06-25                    20.4    20.675    34.175              25.816429  "
      ]
     },
     "execution_count": 46,
     "metadata": {},
     "output_type": "execute_result"
    }
   ],
   "source": [
    "rows_needed"
   ]
  },
  {
   "cell_type": "code",
   "execution_count": 47,
   "id": "c7f51d33",
   "metadata": {},
   "outputs": [
    {
     "data": {
      "text/plain": [
       "(160, 16)"
      ]
     },
     "execution_count": 47,
     "metadata": {},
     "output_type": "execute_result"
    }
   ],
   "source": [
    "x_test = pd.concat([rows_needed, x_test], axis = 0)\n",
    "x_test.shape"
   ]
  },
  {
   "cell_type": "code",
   "execution_count": 48,
   "id": "3ae138c2",
   "metadata": {},
   "outputs": [
    {
     "name": "stdout",
     "output_type": "stream",
     "text": [
      "- Percentage of missing values across the entire dataset 1.21% \n",
      "\n",
      "- New percentage of missing values across the entire dataset 0.55%\n"
     ]
    }
   ],
   "source": [
    "perc = np.round(100 * x_test.isna().sum().sum() / (len(x_test) * len(x_test.columns)), 2)\n",
    "print(f'- Percentage of missing values across the entire dataset {perc}% \\n')\n",
    "\n",
    "for col in x_test.columns[:-1]: # exclude the label variable\n",
    "    x_test[col] = x_test[col].fillna(x_test.rolling(window = nb_variables['window'],\n",
    "                                                    min_periods = 1).mean()[col])\n",
    "    \n",
    "new_perc = np.round(100 * x_test.isna().sum().sum() / (len(x_test) * len(x_test.columns)), 2)\n",
    "print(f'- New percentage of missing values across the entire dataset {new_perc}%')"
   ]
  },
  {
   "cell_type": "code",
   "execution_count": 49,
   "id": "eb91970e",
   "metadata": {},
   "outputs": [
    {
     "name": "stdout",
     "output_type": "stream",
     "text": [
      "- Percentage of missing values across the entire dataset 0.0%\n"
     ]
    }
   ],
   "source": [
    "x_test = x_test.fillna(0)\n",
    "new_perc = np.round(100 * x_test.isna().sum().sum() / (len(x_test) * len(x_test.columns)), 2)\n",
    "print(f'- Percentage of missing values across the entire dataset {new_perc}%')"
   ]
  },
  {
   "cell_type": "code",
   "execution_count": 50,
   "id": "fd1fe003",
   "metadata": {},
   "outputs": [
    {
     "data": {
      "text/plain": [
       "(160, 16)"
      ]
     },
     "execution_count": 50,
     "metadata": {},
     "output_type": "execute_result"
    }
   ],
   "source": [
    "x_test.shape"
   ]
  },
  {
   "cell_type": "code",
   "execution_count": 51,
   "id": "375c20e5",
   "metadata": {},
   "outputs": [],
   "source": [
    "window = nb_variables['window']\n",
    "xin_test = []\n",
    "for i in range(window, len(x_test)):\n",
    "    xin_test.append(x_test.values[i - window : i, :])\n",
    "    \n",
    "xin_test = np.array(xin_test)"
   ]
  },
  {
   "cell_type": "code",
   "execution_count": 52,
   "id": "8677a844",
   "metadata": {},
   "outputs": [
    {
     "data": {
      "text/plain": [
       "(156, 4, 16)"
      ]
     },
     "execution_count": 52,
     "metadata": {},
     "output_type": "execute_result"
    }
   ],
   "source": [
    "xin_test.shape"
   ]
  },
  {
   "cell_type": "code",
   "execution_count": 53,
   "id": "abf6b648",
   "metadata": {},
   "outputs": [
    {
     "name": "stdout",
     "output_type": "stream",
     "text": [
      "5/5 [==============================] - 0s 1ms/step\n"
     ]
    },
    {
     "data": {
      "text/plain": [
       "(156, 1)"
      ]
     },
     "execution_count": 53,
     "metadata": {},
     "output_type": "execute_result"
    }
   ],
   "source": [
    "model = load_model('../models/iq_lstm.keras')\n",
    "predictions = model.predict(xin_test)\n",
    "predictions = np.round(predictions).astype('int32')\n",
    "predictions[predictions < 0] = 0\n",
    "predictions.shape"
   ]
  },
  {
   "cell_type": "code",
   "execution_count": 54,
   "id": "aecc995f",
   "metadata": {},
   "outputs": [
    {
     "data": {
      "text/html": [
       "<div>\n",
       "<style scoped>\n",
       "    .dataframe tbody tr th:only-of-type {\n",
       "        vertical-align: middle;\n",
       "    }\n",
       "\n",
       "    .dataframe tbody tr th {\n",
       "        vertical-align: top;\n",
       "    }\n",
       "\n",
       "    .dataframe thead th {\n",
       "        text-align: right;\n",
       "    }\n",
       "</style>\n",
       "<table border=\"1\" class=\"dataframe\">\n",
       "  <thead>\n",
       "    <tr style=\"text-align: right;\">\n",
       "      <th></th>\n",
       "      <th>year</th>\n",
       "      <th>weekofyear</th>\n",
       "    </tr>\n",
       "    <tr>\n",
       "      <th>city</th>\n",
       "      <th></th>\n",
       "      <th></th>\n",
       "    </tr>\n",
       "  </thead>\n",
       "  <tbody>\n",
       "    <tr>\n",
       "      <th>iq</th>\n",
       "      <td>2010</td>\n",
       "      <td>26</td>\n",
       "    </tr>\n",
       "    <tr>\n",
       "      <th>iq</th>\n",
       "      <td>2010</td>\n",
       "      <td>27</td>\n",
       "    </tr>\n",
       "    <tr>\n",
       "      <th>iq</th>\n",
       "      <td>2010</td>\n",
       "      <td>28</td>\n",
       "    </tr>\n",
       "    <tr>\n",
       "      <th>iq</th>\n",
       "      <td>2010</td>\n",
       "      <td>29</td>\n",
       "    </tr>\n",
       "    <tr>\n",
       "      <th>iq</th>\n",
       "      <td>2010</td>\n",
       "      <td>30</td>\n",
       "    </tr>\n",
       "  </tbody>\n",
       "</table>\n",
       "</div>"
      ],
      "text/plain": [
       "      year  weekofyear\n",
       "city                  \n",
       "iq    2010          26\n",
       "iq    2010          27\n",
       "iq    2010          28\n",
       "iq    2010          29\n",
       "iq    2010          30"
      ]
     },
     "execution_count": 54,
     "metadata": {},
     "output_type": "execute_result"
    }
   ],
   "source": [
    "submission = pd.read_csv('../dengue_features_test.csv', index_col = 0)\n",
    "submission = submission.loc['iq']\n",
    "submission = submission.loc[:, ['year', 'weekofyear']]\n",
    "submission.head()"
   ]
  },
  {
   "cell_type": "code",
   "execution_count": 55,
   "id": "23b7378e",
   "metadata": {},
   "outputs": [],
   "source": [
    "predictions = pd.Series(predictions.reshape(-1))\n",
    "predictions.index = submission.index\n",
    "submission = pd.concat([submission, predictions], axis = 1)\n",
    "submission.columns = ['year', 'weekofyear', 'total_cases']"
   ]
  },
  {
   "cell_type": "code",
   "execution_count": 56,
   "id": "e72dea24",
   "metadata": {},
   "outputs": [
    {
     "data": {
      "text/html": [
       "<div>\n",
       "<style scoped>\n",
       "    .dataframe tbody tr th:only-of-type {\n",
       "        vertical-align: middle;\n",
       "    }\n",
       "\n",
       "    .dataframe tbody tr th {\n",
       "        vertical-align: top;\n",
       "    }\n",
       "\n",
       "    .dataframe thead th {\n",
       "        text-align: right;\n",
       "    }\n",
       "</style>\n",
       "<table border=\"1\" class=\"dataframe\">\n",
       "  <thead>\n",
       "    <tr style=\"text-align: right;\">\n",
       "      <th></th>\n",
       "      <th>year</th>\n",
       "      <th>weekofyear</th>\n",
       "      <th>total_cases</th>\n",
       "    </tr>\n",
       "    <tr>\n",
       "      <th>city</th>\n",
       "      <th></th>\n",
       "      <th></th>\n",
       "      <th></th>\n",
       "    </tr>\n",
       "  </thead>\n",
       "  <tbody>\n",
       "    <tr>\n",
       "      <th>iq</th>\n",
       "      <td>2010</td>\n",
       "      <td>26</td>\n",
       "      <td>23</td>\n",
       "    </tr>\n",
       "    <tr>\n",
       "      <th>iq</th>\n",
       "      <td>2010</td>\n",
       "      <td>27</td>\n",
       "      <td>24</td>\n",
       "    </tr>\n",
       "    <tr>\n",
       "      <th>iq</th>\n",
       "      <td>2010</td>\n",
       "      <td>28</td>\n",
       "      <td>24</td>\n",
       "    </tr>\n",
       "    <tr>\n",
       "      <th>iq</th>\n",
       "      <td>2010</td>\n",
       "      <td>29</td>\n",
       "      <td>25</td>\n",
       "    </tr>\n",
       "    <tr>\n",
       "      <th>iq</th>\n",
       "      <td>2010</td>\n",
       "      <td>30</td>\n",
       "      <td>24</td>\n",
       "    </tr>\n",
       "  </tbody>\n",
       "</table>\n",
       "</div>"
      ],
      "text/plain": [
       "      year  weekofyear  total_cases\n",
       "city                               \n",
       "iq    2010          26           23\n",
       "iq    2010          27           24\n",
       "iq    2010          28           24\n",
       "iq    2010          29           25\n",
       "iq    2010          30           24"
      ]
     },
     "execution_count": 56,
     "metadata": {},
     "output_type": "execute_result"
    }
   ],
   "source": [
    "submission.head()"
   ]
  },
  {
   "cell_type": "code",
   "execution_count": 57,
   "id": "c7451591",
   "metadata": {},
   "outputs": [],
   "source": [
    "submission.to_csv('Iquitos_LSTM_predictions.csv')"
   ]
  },
  {
   "cell_type": "code",
   "execution_count": null,
   "id": "631d7cbf",
   "metadata": {},
   "outputs": [],
   "source": []
  }
 ],
 "metadata": {
  "kernelspec": {
   "display_name": "Python 3 (ipykernel)",
   "language": "python",
   "name": "python3"
  },
  "language_info": {
   "codemirror_mode": {
    "name": "ipython",
    "version": 3
   },
   "file_extension": ".py",
   "mimetype": "text/x-python",
   "name": "python",
   "nbconvert_exporter": "python",
   "pygments_lexer": "ipython3",
   "version": "3.9.15"
  }
 },
 "nbformat": 4,
 "nbformat_minor": 5
}
