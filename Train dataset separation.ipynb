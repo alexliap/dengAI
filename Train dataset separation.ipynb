{
 "cells": [
  {
   "cell_type": "code",
   "execution_count": 9,
   "id": "c2bfcff2",
   "metadata": {},
   "outputs": [],
   "source": [
    "import pandas as pd"
   ]
  },
  {
   "cell_type": "code",
   "execution_count": 10,
   "id": "e91cacfb",
   "metadata": {},
   "outputs": [],
   "source": [
    "dfx = pd.read_csv('dengue_features_train.csv', index_col = [0, 3])\n",
    "# dfx.drop(['year', 'weekofyear'], inplace = True, axis = 1)\n",
    "dfy = pd.read_csv('dengue_labels_train.csv', index_col = 0)\n",
    "dfy.drop(['year', 'weekofyear'], inplace = True, axis = 1)"
   ]
  },
  {
   "cell_type": "code",
   "execution_count": 11,
   "id": "c7ad799b",
   "metadata": {},
   "outputs": [],
   "source": [
    "# --- Create dataset for San Juan ---\n",
    "sj_dfx = dfx.loc['sj']\n",
    "sj_dfy = dfy.loc['sj']\n",
    "sj_dfx.index = pd.to_datetime(sj_dfx.index)\n",
    "sj_dfx.sort_index(inplace = True)\n",
    "\n",
    "sj_dfy = sj_dfy.set_index(sj_dfx.index)\n",
    "sj_dfy.index = pd.to_datetime(sj_dfy.index)\n",
    "sj_dfy.sort_index(inplace = True)\n",
    "\n",
    "sj_df = pd.concat([sj_dfx, sj_dfy], axis = 1)\n",
    "\n",
    "# --- Create dataset for Iquitos ---\n",
    "iq_dfx = dfx.loc['iq']\n",
    "iq_dfy = dfy.loc['iq']\n",
    "iq_dfx.index = pd.to_datetime(iq_dfx.index)\n",
    "iq_dfx.sort_index(inplace = True)\n",
    "\n",
    "iq_dfy = iq_dfy.set_index(iq_dfx.index)\n",
    "iq_dfy.index = pd.to_datetime(iq_dfy.index)\n",
    "iq_dfy.sort_index(inplace = True)\n",
    "\n",
    "iq_df = pd.concat([iq_dfx, iq_dfy], axis = 1)"
   ]
  },
  {
   "cell_type": "code",
   "execution_count": 13,
   "id": "b6c98702",
   "metadata": {},
   "outputs": [],
   "source": [
    "sj_df.to_csv('San_Juan_train.csv')\n",
    "iq_df.to_csv('Iquitos_train.csv')"
   ]
  },
  {
   "cell_type": "code",
   "execution_count": null,
   "id": "d3204ca9",
   "metadata": {},
   "outputs": [],
   "source": []
  }
 ],
 "metadata": {
  "kernelspec": {
   "display_name": "Python 3 (ipykernel)",
   "language": "python",
   "name": "python3"
  },
  "language_info": {
   "codemirror_mode": {
    "name": "ipython",
    "version": 3
   },
   "file_extension": ".py",
   "mimetype": "text/x-python",
   "name": "python",
   "nbconvert_exporter": "python",
   "pygments_lexer": "ipython3",
   "version": "3.9.15"
  }
 },
 "nbformat": 4,
 "nbformat_minor": 5
}
