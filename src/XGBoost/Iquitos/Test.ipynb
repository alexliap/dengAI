{
 "cells": [
  {
   "cell_type": "markdown",
   "id": "b7d9ccba",
   "metadata": {},
   "source": [
    "# - Test Time"
   ]
  },
  {
   "cell_type": "code",
   "execution_count": 30,
   "id": "1ba9cc19",
   "metadata": {},
   "outputs": [],
   "source": [
    "import mlflow\n",
    "anomaly_detector = 'mlruns/0/b3a551ed77b447908889ec4338b8bc63/artifacts/Anomaly Detector'\n",
    "anomaly_reg = 'mlruns/0/b3a551ed77b447908889ec4338b8bc63/artifacts/Anomaly Regressor'\n",
    "regressor = 'mlruns/0/b3a551ed77b447908889ec4338b8bc63/artifacts/XGBoostRegressor'\n",
    "\n",
    "anomaly_detector = mlflow.pyfunc.load_model(anomaly_detector)\n",
    "anomaly_reg = mlflow.pyfunc.load_model(anomaly_reg)\n",
    "regressor = mlflow.pyfunc.load_model(regressor)"
   ]
  },
  {
   "cell_type": "code",
   "execution_count": 31,
   "id": "b1e5a913",
   "metadata": {},
   "outputs": [],
   "source": [
    "import pandas as pd\n",
    "import numpy as np\n",
    "import warnings\n",
    "import matplotlib.pyplot as plt\n",
    "warnings.filterwarnings(\"ignore\")"
   ]
  },
  {
   "cell_type": "code",
   "execution_count": 32,
   "id": "209a61a2",
   "metadata": {},
   "outputs": [],
   "source": [
    "import os\n",
    "import sys\n",
    "module_path = os.path.abspath(os.path.join('../../utils'))\n",
    "if module_path not in sys.path:\n",
    "    sys.path.append(module_path)\n",
    "\n",
    "from helper_functions import *"
   ]
  },
  {
   "cell_type": "code",
   "execution_count": 33,
   "id": "b6a8f4ba",
   "metadata": {},
   "outputs": [],
   "source": [
    "nb_variables = {'window': 5, 'shift': -3}"
   ]
  },
  {
   "cell_type": "code",
   "execution_count": 34,
   "id": "380cb8c8",
   "metadata": {},
   "outputs": [],
   "source": [
    "# ---- Testing ---- #\n",
    "x_test = pd.read_csv('../../../dengue_features_test.csv', index_col = 0)\n",
    "x_test = x_test.loc['iq']\n",
    "x_test = x_test.set_index('week_start_date')\n",
    "x_test.index = pd.to_datetime(x_test.index)\n",
    "x_test.sort_index(inplace = True)"
   ]
  },
  {
   "cell_type": "code",
   "execution_count": 35,
   "id": "fddd88ca",
   "metadata": {},
   "outputs": [
    {
     "name": "stdout",
     "output_type": "stream",
     "text": [
      "Filling NA values with the running mean of 4 previous values (window = 5) \n",
      "\n",
      "- The amount of NAs was reduced to 0.41% \n",
      "\n",
      "- For the next step we will fill the remaining NAs with zeroes \n",
      "\n",
      "Filling NA values with 0 \n",
      "\n",
      "- The amount of NAs was reduced to 0.0% \n",
      "\n",
      "- No more NA values left \n",
      "\n"
     ]
    }
   ],
   "source": [
    "x_test = fill_values(x_test, nb_variables['window'], give_info = True)"
   ]
  },
  {
   "cell_type": "code",
   "execution_count": 36,
   "id": "c0e9f57e",
   "metadata": {},
   "outputs": [],
   "source": [
    "columns_to_drop = np.array(['weekofyear', 'ndvi_ne', 'ndvi_nw', 'ndvi_se', 'ndvi_sw',\n",
    "                            'station_diur_temp_rng_c', 'station_precip_mm'])\n",
    "x_test.drop(columns_to_drop, axis = 1, inplace = True)"
   ]
  },
  {
   "cell_type": "markdown",
   "id": "7fe5725e",
   "metadata": {},
   "source": [
    "# - Shift the test data like the training data"
   ]
  },
  {
   "cell_type": "code",
   "execution_count": 37,
   "id": "a90ed591",
   "metadata": {},
   "outputs": [],
   "source": [
    "new_df = n_step_shift(x_test, nb_variables['shift'])"
   ]
  },
  {
   "cell_type": "code",
   "execution_count": 38,
   "id": "516279ed",
   "metadata": {},
   "outputs": [
    {
     "data": {
      "text/plain": [
       "(153, 60)"
      ]
     },
     "execution_count": 38,
     "metadata": {},
     "output_type": "execute_result"
    }
   ],
   "source": [
    "new_df.shape"
   ]
  },
  {
   "cell_type": "code",
   "execution_count": 39,
   "id": "46dc4349",
   "metadata": {},
   "outputs": [],
   "source": [
    "anomalies_detected = anomaly_detector.predict(new_df.iloc[:,-14:])\n",
    "new_df['anomaly'] = anomalies_detected"
   ]
  },
  {
   "cell_type": "code",
   "execution_count": 40,
   "id": "1d68859c",
   "metadata": {},
   "outputs": [],
   "source": [
    "preds = predictions(regressor, anomaly_reg, new_df, anomaly_weight = 1.8, index = 1)"
   ]
  },
  {
   "cell_type": "markdown",
   "id": "c2b0dd7f",
   "metadata": {},
   "source": [
    "- Add a row according to the mean of the last 4 predictions to match the dimension needed"
   ]
  },
  {
   "cell_type": "code",
   "execution_count": 42,
   "id": "7b475f54",
   "metadata": {},
   "outputs": [
    {
     "data": {
      "text/plain": [
       "(156,)"
      ]
     },
     "execution_count": 42,
     "metadata": {},
     "output_type": "execute_result"
    }
   ],
   "source": [
    "preds = fill_future_predictions(preds, nb_variables['shift'])\n",
    "preds.shape"
   ]
  },
  {
   "cell_type": "code",
   "execution_count": 43,
   "id": "b21ab81d",
   "metadata": {},
   "outputs": [
    {
     "data": {
      "text/html": [
       "<div>\n",
       "<style scoped>\n",
       "    .dataframe tbody tr th:only-of-type {\n",
       "        vertical-align: middle;\n",
       "    }\n",
       "\n",
       "    .dataframe tbody tr th {\n",
       "        vertical-align: top;\n",
       "    }\n",
       "\n",
       "    .dataframe thead th {\n",
       "        text-align: right;\n",
       "    }\n",
       "</style>\n",
       "<table border=\"1\" class=\"dataframe\">\n",
       "  <thead>\n",
       "    <tr style=\"text-align: right;\">\n",
       "      <th></th>\n",
       "      <th>year</th>\n",
       "      <th>weekofyear</th>\n",
       "    </tr>\n",
       "    <tr>\n",
       "      <th>city</th>\n",
       "      <th></th>\n",
       "      <th></th>\n",
       "    </tr>\n",
       "  </thead>\n",
       "  <tbody>\n",
       "    <tr>\n",
       "      <th>iq</th>\n",
       "      <td>2010</td>\n",
       "      <td>26</td>\n",
       "    </tr>\n",
       "    <tr>\n",
       "      <th>iq</th>\n",
       "      <td>2010</td>\n",
       "      <td>27</td>\n",
       "    </tr>\n",
       "    <tr>\n",
       "      <th>iq</th>\n",
       "      <td>2010</td>\n",
       "      <td>28</td>\n",
       "    </tr>\n",
       "    <tr>\n",
       "      <th>iq</th>\n",
       "      <td>2010</td>\n",
       "      <td>29</td>\n",
       "    </tr>\n",
       "    <tr>\n",
       "      <th>iq</th>\n",
       "      <td>2010</td>\n",
       "      <td>30</td>\n",
       "    </tr>\n",
       "  </tbody>\n",
       "</table>\n",
       "</div>"
      ],
      "text/plain": [
       "      year  weekofyear\n",
       "city                  \n",
       "iq    2010          26\n",
       "iq    2010          27\n",
       "iq    2010          28\n",
       "iq    2010          29\n",
       "iq    2010          30"
      ]
     },
     "execution_count": 43,
     "metadata": {},
     "output_type": "execute_result"
    }
   ],
   "source": [
    "submission = pd.read_csv('../../../dengue_features_test.csv', index_col = 0)\n",
    "submission = submission.loc['iq']\n",
    "submission = submission.loc[:, ['year', 'weekofyear']]\n",
    "submission.head()"
   ]
  },
  {
   "cell_type": "code",
   "execution_count": 45,
   "id": "f94c6811",
   "metadata": {},
   "outputs": [],
   "source": [
    "preds = pd.Series(preds.reshape(-1))\n",
    "preds.index = submission.index\n",
    "submission = pd.concat([submission, preds], axis = 1)\n",
    "submission.columns = ['year', 'weekofyear', 'total_cases']"
   ]
  },
  {
   "cell_type": "code",
   "execution_count": 46,
   "id": "6d782533",
   "metadata": {},
   "outputs": [
    {
     "data": {
      "text/html": [
       "<div>\n",
       "<style scoped>\n",
       "    .dataframe tbody tr th:only-of-type {\n",
       "        vertical-align: middle;\n",
       "    }\n",
       "\n",
       "    .dataframe tbody tr th {\n",
       "        vertical-align: top;\n",
       "    }\n",
       "\n",
       "    .dataframe thead th {\n",
       "        text-align: right;\n",
       "    }\n",
       "</style>\n",
       "<table border=\"1\" class=\"dataframe\">\n",
       "  <thead>\n",
       "    <tr style=\"text-align: right;\">\n",
       "      <th></th>\n",
       "      <th>year</th>\n",
       "      <th>weekofyear</th>\n",
       "      <th>total_cases</th>\n",
       "    </tr>\n",
       "    <tr>\n",
       "      <th>city</th>\n",
       "      <th></th>\n",
       "      <th></th>\n",
       "      <th></th>\n",
       "    </tr>\n",
       "  </thead>\n",
       "  <tbody>\n",
       "    <tr>\n",
       "      <th>iq</th>\n",
       "      <td>2010</td>\n",
       "      <td>26</td>\n",
       "      <td>4</td>\n",
       "    </tr>\n",
       "    <tr>\n",
       "      <th>iq</th>\n",
       "      <td>2010</td>\n",
       "      <td>27</td>\n",
       "      <td>8</td>\n",
       "    </tr>\n",
       "    <tr>\n",
       "      <th>iq</th>\n",
       "      <td>2010</td>\n",
       "      <td>28</td>\n",
       "      <td>8</td>\n",
       "    </tr>\n",
       "    <tr>\n",
       "      <th>iq</th>\n",
       "      <td>2010</td>\n",
       "      <td>29</td>\n",
       "      <td>0</td>\n",
       "    </tr>\n",
       "    <tr>\n",
       "      <th>iq</th>\n",
       "      <td>2010</td>\n",
       "      <td>30</td>\n",
       "      <td>10</td>\n",
       "    </tr>\n",
       "  </tbody>\n",
       "</table>\n",
       "</div>"
      ],
      "text/plain": [
       "      year  weekofyear  total_cases\n",
       "city                               \n",
       "iq    2010          26            4\n",
       "iq    2010          27            8\n",
       "iq    2010          28            8\n",
       "iq    2010          29            0\n",
       "iq    2010          30           10"
      ]
     },
     "execution_count": 46,
     "metadata": {},
     "output_type": "execute_result"
    }
   ],
   "source": [
    "submission.head()"
   ]
  },
  {
   "cell_type": "code",
   "execution_count": 47,
   "id": "44ff074f",
   "metadata": {},
   "outputs": [
    {
     "data": {
      "image/png": "[encoded data removed]",
      "text/plain": [
       "<Figure size 640x480 with 1 Axes>"
      ]
     },
     "metadata": {},
     "output_type": "display_data"
    }
   ],
   "source": [
    "plt.plot(range(len(submission['total_cases'])), submission['total_cases'])\n",
    "plt.show()"
   ]
  },
  {
   "cell_type": "code",
   "execution_count": 48,
   "id": "3fbddcfb",
   "metadata": {},
   "outputs": [],
   "source": [
    "submission.to_csv('sj_XGBoost_predictions.csv')"
   ]
  },
  {
   "cell_type": "code",
   "execution_count": null,
   "id": "bc69d3e2",
   "metadata": {},
   "outputs": [],
   "source": []
  }
 ],
 "metadata": {
  "kernelspec": {
   "display_name": "Python 3 (ipykernel)",
   "language": "python",
   "name": "python3"
  },
  "language_info": {
   "codemirror_mode": {
    "name": "ipython",
    "version": 3
   },
   "file_extension": ".py",
   "mimetype": "text/x-python",
   "name": "python",
   "nbconvert_exporter": "python",
   "pygments_lexer": "ipython3",
   "version": "3.9.15"
  }
 },
 "nbformat": 4,
 "nbformat_minor": 5
}
