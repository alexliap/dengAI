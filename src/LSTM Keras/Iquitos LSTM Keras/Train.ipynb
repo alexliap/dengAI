{
 "cells": [
  {
   "cell_type": "code",
   "execution_count": 47,
   "id": "092ee4ef",
   "metadata": {},
   "outputs": [],
   "source": [
    "import pandas as pd\n",
    "import numpy as np\n",
    "import warnings\n",
    "import matplotlib.pyplot as plt\n",
    "warnings.filterwarnings(\"ignore\")"
   ]
  },
  {
   "cell_type": "code",
   "execution_count": 48,
   "id": "b8fa5e97",
   "metadata": {},
   "outputs": [],
   "source": [
    "## ---- Notebook Variables ---- ##\n",
    "nb_variables = {'window': 4, 'train_amount': 0.9}"
   ]
  },
  {
   "cell_type": "code",
   "execution_count": 49,
   "id": "52112517",
   "metadata": {},
   "outputs": [],
   "source": [
    "df = pd.read_csv('../Iquitos_train.csv', index_col = 0)\n",
    "df.index = pd.to_datetime(df.index)\n",
    "df.sort_index(inplace = True)"
   ]
  },
  {
   "cell_type": "code",
   "execution_count": 50,
   "id": "774534fc",
   "metadata": {},
   "outputs": [
    {
     "name": "stdout",
     "output_type": "stream",
     "text": [
      "------ Basic Stats about the San Juan Training set ------ \n",
      "\n",
      "- Number of rows of the training set: 520 \n",
      "\n",
      "- Number of columns of the training set: 23, where the last on is the label \n",
      "\n",
      "- Percentage of missing values across the entire dataset 1.4% \n",
      "\n",
      "- Description for all variables can be found here: https://www.drivendata.org/competitions/44/dengai-predicting-disease-spread/page/82/ \n",
      "\n"
     ]
    }
   ],
   "source": [
    "print('------ Basic Stats about the San Juan Training set ------ \\n')\n",
    "print(f'- Number of rows of the training set: {len(df)} \\n')\n",
    "print(f'- Number of columns of the training set: {len(df.columns)}, where the last on is the label \\n')\n",
    "perc = np.round(100 * df.isna().sum().sum() / (len(df) * len(df.columns)), 2)\n",
    "print(f'- Percentage of missing values across the entire dataset {perc}% \\n')\n",
    "url = 'https://www.drivendata.org/competitions/44/dengai-predicting-disease-spread/page/82/'\n",
    "print(f'- Description for all variables can be found here: {url} \\n')"
   ]
  },
  {
   "cell_type": "code",
   "execution_count": 51,
   "id": "812d8e15",
   "metadata": {},
   "outputs": [],
   "source": [
    "# When we are filling NAs using a rolling window = 4, it means that if a value is NA then we take the mean\n",
    "# of the 3 values that come before it chronologically and assign it to that value.\n",
    "# Also the values that are not NA do not change (Just to be clear)!"
   ]
  },
  {
   "cell_type": "code",
   "execution_count": 52,
   "id": "b62d5b21",
   "metadata": {},
   "outputs": [],
   "source": [
    "for col in df.columns[:-1]: # exclude the label variable\n",
    "    df[col] = df[col].fillna(df.rolling(window = nb_variables['window'],\n",
    "                                        min_periods = 1).mean()[col])"
   ]
  },
  {
   "cell_type": "code",
   "execution_count": 53,
   "id": "642bbf89",
   "metadata": {},
   "outputs": [
    {
     "name": "stdout",
     "output_type": "stream",
     "text": [
      "- The amount of NAs was reduced to 0.11% \n",
      "\n",
      "- For the next step we will fill the remaining NAs with zeroes \n",
      "\n"
     ]
    }
   ],
   "source": [
    "new_perc = np.round(100 * df.isna().sum().sum() / (len(df) * len(df.columns)), 2)\n",
    "print(f'- The amount of NAs was reduced to {new_perc}% \\n')\n",
    "print('- For the next step we will fill the remaining NAs with zeroes \\n')"
   ]
  },
  {
   "cell_type": "code",
   "execution_count": 54,
   "id": "a719518e",
   "metadata": {},
   "outputs": [],
   "source": [
    "df = df.fillna(0)"
   ]
  },
  {
   "cell_type": "code",
   "execution_count": 55,
   "id": "d8d4c4d5",
   "metadata": {},
   "outputs": [
    {
     "name": "stdout",
     "output_type": "stream",
     "text": [
      "- The amount of NAs was reduced to 0.0% \n",
      "\n",
      "- We are ready to make predictions! \n",
      "\n"
     ]
    }
   ],
   "source": [
    "new_perc = np.round(100 * df.isna().sum().sum() / (len(df) * len(df.columns)), 2)\n",
    "print(f'- The amount of NAs was reduced to {new_perc}% \\n')\n",
    "print(f'- We are ready to make predictions! \\n')"
   ]
  },
  {
   "cell_type": "code",
   "execution_count": 56,
   "id": "e605c676",
   "metadata": {},
   "outputs": [],
   "source": [
    "## ----- Further Data Engineering ----- ##"
   ]
  },
  {
   "cell_type": "code",
   "execution_count": 57,
   "id": "2cde35e5",
   "metadata": {},
   "outputs": [],
   "source": [
    "df.drop(['ndvi_ne', 'ndvi_nw'], axis = 1, inplace = True)\n",
    "df.drop('reanalysis_sat_precip_amt_mm', axis = 1, inplace = True)\n",
    "df[['reanalysis_air_temp_k', 'reanalysis_avg_temp_k', 'reanalysis_dew_point_temp_k',\n",
    "    'reanalysis_max_air_temp_k', 'reanalysis_min_air_temp_k']] += -273.15"
   ]
  },
  {
   "cell_type": "code",
   "execution_count": 58,
   "id": "272b1e11",
   "metadata": {},
   "outputs": [],
   "source": [
    "min_temp = pd.Series(np.mean(df[[col for col in df.columns if '_min_' in col]].values, axis = 1))\n",
    "min_temp.index = df.index\n",
    "df['min_temp'] = min_temp\n",
    "df.drop([col for col in df.columns if '_min_' in col], axis = 1, inplace = True)"
   ]
  },
  {
   "cell_type": "code",
   "execution_count": 59,
   "id": "3d424460",
   "metadata": {},
   "outputs": [],
   "source": [
    "max_temp = pd.Series(np.mean(df[[col for col in df.columns if '_max_' in col]].values, axis = 1))\n",
    "max_temp.index = df.index\n",
    "df['max_temp'] = max_temp\n",
    "df.drop([col for col in df.columns if '_max_' in col], axis = 1, inplace = True)"
   ]
  },
  {
   "cell_type": "code",
   "execution_count": 60,
   "id": "8b3bad2b",
   "metadata": {},
   "outputs": [],
   "source": [
    "reanalysis_avg_temp_c = pd.Series(np.mean(df[['reanalysis_avg_temp_k', 'reanalysis_air_temp_k']], axis = 1))\n",
    "reanalysis_avg_temp_c.index = df.index\n",
    "df['reanalysis_avg_temp_c'] = reanalysis_avg_temp_c\n",
    "df.drop(['reanalysis_avg_temp_k', 'reanalysis_air_temp_k'], axis = 1, inplace = True)"
   ]
  },
  {
   "cell_type": "code",
   "execution_count": 61,
   "id": "bce7519a",
   "metadata": {},
   "outputs": [],
   "source": [
    "cols = df.columns.tolist()\n",
    "cols = cols[-3:] + cols[:-3]"
   ]
  },
  {
   "cell_type": "code",
   "execution_count": 62,
   "id": "f918ab65",
   "metadata": {},
   "outputs": [
    {
     "data": {
      "text/plain": [
       "<AxesSubplot: >"
      ]
     },
     "execution_count": 62,
     "metadata": {},
     "output_type": "execute_result"
    },
    {
     "data": {
      "image/png": "[encoded data removed]",
      "text/plain": [
       "<Figure size 640x480 with 1 Axes>"
      ]
     },
     "metadata": {},
     "output_type": "display_data"
    }
   ],
   "source": [
    "correlations = df.corr()\n",
    "(correlations\n",
    "     .total_cases\n",
    "     .drop('total_cases')\n",
    "     .sort_values(ascending=False)\n",
    "     .plot\n",
    "     .barh())"
   ]
  },
  {
   "cell_type": "code",
   "execution_count": 63,
   "id": "c1d8cba8",
   "metadata": {
    "scrolled": true
   },
   "outputs": [
    {
     "data": {
      "text/plain": [
       "(520, 17)"
      ]
     },
     "execution_count": 63,
     "metadata": {},
     "output_type": "execute_result"
    }
   ],
   "source": [
    "df.values.shape"
   ]
  },
  {
   "cell_type": "code",
   "execution_count": 64,
   "id": "9cd795b7",
   "metadata": {},
   "outputs": [],
   "source": [
    "df.to_csv('df_for_testing.csv')"
   ]
  },
  {
   "cell_type": "code",
   "execution_count": 65,
   "id": "484300a4",
   "metadata": {},
   "outputs": [],
   "source": [
    "window = nb_variables['window']\n",
    "xin = []\n",
    "yout = []\n",
    "for i in range(window, len(df)):\n",
    "    xin.append(df.values[i - window : i, : -1])\n",
    "    yout.append(df.values[i, -1])\n",
    "    \n",
    "xin = np.array(xin)\n",
    "yout = np.array(yout).reshape(len(yout), 1)"
   ]
  },
  {
   "cell_type": "code",
   "execution_count": 66,
   "id": "7326d224",
   "metadata": {},
   "outputs": [
    {
     "data": {
      "text/plain": [
       "(516, 4, 16)"
      ]
     },
     "execution_count": 66,
     "metadata": {},
     "output_type": "execute_result"
    }
   ],
   "source": [
    "xin.shape"
   ]
  },
  {
   "cell_type": "code",
   "execution_count": 67,
   "id": "63ebe777",
   "metadata": {},
   "outputs": [
    {
     "data": {
      "text/plain": [
       "(516, 1)"
      ]
     },
     "execution_count": 67,
     "metadata": {},
     "output_type": "execute_result"
    }
   ],
   "source": [
    "yout.shape"
   ]
  },
  {
   "cell_type": "code",
   "execution_count": 68,
   "id": "db6f1712",
   "metadata": {},
   "outputs": [],
   "source": [
    "train_amount = nb_variables['train_amount']\n",
    "x_train = xin[:int(train_amount * len(df))]  # df.iloc[:int(train_amount * len(df)), : -1]\n",
    "x_test = xin[int(train_amount * len(df)):]   # df.iloc[int(train_amount * len(df)):, : -1]\n",
    "\n",
    "y_train = yout[:int(train_amount * len(df))]  # df.iloc[:int(train_amount * len(df)), -1]\n",
    "y_test = yout[int(train_amount * len(df)):]   # df.iloc[int(train_amount * len(df)):, -1]"
   ]
  },
  {
   "cell_type": "code",
   "execution_count": 69,
   "id": "e1619733",
   "metadata": {},
   "outputs": [],
   "source": [
    "from tensorflow.keras.models import Sequential\n",
    "from tensorflow.keras.layers import LSTM\n",
    "from tensorflow.keras.layers import Dense, BatchNormalization, Dropout\n",
    "from tensorflow.data import Dataset\n",
    "from tensorflow.keras.optimizers import Adam\n",
    "from tensorflow.keras.callbacks import EarlyStopping, ModelCheckpoint, LearningRateScheduler"
   ]
  },
  {
   "cell_type": "code",
   "execution_count": 70,
   "id": "ab226290",
   "metadata": {},
   "outputs": [],
   "source": [
    "opt = Adam(learning_rate = 5e-5)\n",
    "\n",
    "model = Sequential()\n",
    "model.add(LSTM(50, activation = 'tanh', input_shape = (xin.shape[1], xin.shape[2]), return_sequences = True))\n",
    "model.add(BatchNormalization())\n",
    "model.add(LSTM(50, activation = 'tanh', input_shape = (xin.shape[1], 50)))\n",
    "model.add(BatchNormalization())\n",
    "model.add(Dense(100, activation = 'relu'))\n",
    "model.add(BatchNormalization())\n",
    "model.add(Dropout(0.2))\n",
    "model.add(Dense(75, activation = 'relu'))\n",
    "model.add(BatchNormalization())\n",
    "model.add(Dropout(0.2))\n",
    "model.add(Dense(25, activation = 'relu'))\n",
    "model.add(BatchNormalization())\n",
    "model.add(Dropout(0.2))\n",
    "model.add(Dense(1))\n",
    "model.compile(optimizer = opt, loss='mae')"
   ]
  },
  {
   "cell_type": "code",
   "execution_count": 71,
   "id": "f7567639",
   "metadata": {},
   "outputs": [],
   "source": [
    "def lr_scheduler(epoch, lr):\n",
    "    if epoch <= 80:\n",
    "        return lr\n",
    "    else:\n",
    "        return lr * 0.99"
   ]
  },
  {
   "cell_type": "code",
   "execution_count": 72,
   "id": "e55c394d",
   "metadata": {},
   "outputs": [],
   "source": [
    "# -- Checkpoints -- #\n",
    "lr_scheduler = LearningRateScheduler(lr_scheduler)\n",
    "early_stopping = EarlyStopping(monitor = 'val_loss', patience = 75, restore_best_weights=True, mode = 'min')\n",
    "checkpoint = ModelCheckpoint(monitor = 'val_loss', filepath = '../models/iq_lstm.keras', save_best_only = True, \n",
    "                             mode = 'min', save_freq = 'epoch')"
   ]
  },
  {
   "cell_type": "code",
   "execution_count": 73,
   "id": "2934ca46",
   "metadata": {
    "scrolled": true
   },
   "outputs": [
    {
     "name": "stdout",
     "output_type": "stream",
     "text": [
      "Epoch 1/220\n",
      "117/117 - 2s - loss: 25.2197 - val_loss: 25.9856 - lr: 5.0000e-05 - 2s/epoch - 16ms/step\n",
      "Epoch 2/220\n",
      "117/117 - 0s - loss: 25.2238 - val_loss: 25.8650 - lr: 5.0000e-05 - 234ms/epoch - 2ms/step\n",
      "Epoch 3/220\n",
      "117/117 - 0s - loss: 25.1743 - val_loss: 25.9488 - lr: 5.0000e-05 - 212ms/epoch - 2ms/step\n",
      "Epoch 4/220\n",
      "117/117 - 0s - loss: 25.1846 - val_loss: 26.1904 - lr: 5.0000e-05 - 208ms/epoch - 2ms/step\n",
      "Epoch 5/220\n",
      "117/117 - 0s - loss: 25.1493 - val_loss: 26.0709 - lr: 5.0000e-05 - 208ms/epoch - 2ms/step\n",
      "Epoch 6/220\n",
      "117/117 - 0s - loss: 25.0469 - val_loss: 25.7067 - lr: 5.0000e-05 - 232ms/epoch - 2ms/step\n",
      "Epoch 7/220\n",
      "117/117 - 0s - loss: 25.0777 - val_loss: 25.9538 - lr: 5.0000e-05 - 210ms/epoch - 2ms/step\n",
      "Epoch 8/220\n",
      "117/117 - 0s - loss: 24.9358 - val_loss: 25.9527 - lr: 5.0000e-05 - 207ms/epoch - 2ms/step\n",
      "Epoch 9/220\n",
      "117/117 - 0s - loss: 24.9104 - val_loss: 25.7043 - lr: 5.0000e-05 - 230ms/epoch - 2ms/step\n",
      "Epoch 10/220\n",
      "117/117 - 0s - loss: 24.9119 - val_loss: 25.6853 - lr: 5.0000e-05 - 233ms/epoch - 2ms/step\n",
      "Epoch 11/220\n",
      "117/117 - 0s - loss: 24.8255 - val_loss: 25.4798 - lr: 5.0000e-05 - 232ms/epoch - 2ms/step\n",
      "Epoch 12/220\n",
      "117/117 - 0s - loss: 24.8090 - val_loss: 25.4177 - lr: 5.0000e-05 - 231ms/epoch - 2ms/step\n",
      "Epoch 13/220\n",
      "117/117 - 0s - loss: 24.7317 - val_loss: 24.7419 - lr: 5.0000e-05 - 231ms/epoch - 2ms/step\n",
      "Epoch 14/220\n",
      "117/117 - 0s - loss: 24.6498 - val_loss: 25.7597 - lr: 5.0000e-05 - 210ms/epoch - 2ms/step\n",
      "Epoch 15/220\n",
      "117/117 - 0s - loss: 24.5967 - val_loss: 25.2982 - lr: 5.0000e-05 - 210ms/epoch - 2ms/step\n",
      "Epoch 16/220\n",
      "117/117 - 0s - loss: 24.5582 - val_loss: 24.8071 - lr: 5.0000e-05 - 208ms/epoch - 2ms/step\n",
      "Epoch 17/220\n",
      "117/117 - 0s - loss: 24.5417 - val_loss: 24.5254 - lr: 5.0000e-05 - 231ms/epoch - 2ms/step\n",
      "Epoch 18/220\n",
      "117/117 - 0s - loss: 24.4640 - val_loss: 24.3300 - lr: 5.0000e-05 - 231ms/epoch - 2ms/step\n",
      "Epoch 19/220\n",
      "117/117 - 0s - loss: 24.3891 - val_loss: 24.4438 - lr: 5.0000e-05 - 212ms/epoch - 2ms/step\n",
      "Epoch 20/220\n",
      "117/117 - 0s - loss: 24.3959 - val_loss: 24.4014 - lr: 5.0000e-05 - 214ms/epoch - 2ms/step\n",
      "Epoch 21/220\n",
      "117/117 - 0s - loss: 24.3223 - val_loss: 24.5022 - lr: 5.0000e-05 - 211ms/epoch - 2ms/step\n",
      "Epoch 22/220\n",
      "117/117 - 0s - loss: 24.2213 - val_loss: 25.1672 - lr: 5.0000e-05 - 210ms/epoch - 2ms/step\n",
      "Epoch 23/220\n",
      "117/117 - 0s - loss: 24.2017 - val_loss: 24.1032 - lr: 5.0000e-05 - 232ms/epoch - 2ms/step\n",
      "Epoch 24/220\n",
      "117/117 - 0s - loss: 24.1303 - val_loss: 23.7788 - lr: 5.0000e-05 - 231ms/epoch - 2ms/step\n",
      "Epoch 25/220\n",
      "117/117 - 0s - loss: 24.0913 - val_loss: 23.2804 - lr: 5.0000e-05 - 230ms/epoch - 2ms/step\n",
      "Epoch 26/220\n",
      "117/117 - 0s - loss: 24.0130 - val_loss: 23.5945 - lr: 5.0000e-05 - 213ms/epoch - 2ms/step\n",
      "Epoch 27/220\n",
      "117/117 - 0s - loss: 23.8802 - val_loss: 23.4189 - lr: 5.0000e-05 - 220ms/epoch - 2ms/step\n",
      "Epoch 28/220\n",
      "117/117 - 0s - loss: 23.8791 - val_loss: 23.5949 - lr: 5.0000e-05 - 209ms/epoch - 2ms/step\n",
      "Epoch 29/220\n",
      "117/117 - 0s - loss: 23.7731 - val_loss: 23.3956 - lr: 5.0000e-05 - 208ms/epoch - 2ms/step\n",
      "Epoch 30/220\n",
      "117/117 - 0s - loss: 23.7437 - val_loss: 23.8044 - lr: 5.0000e-05 - 207ms/epoch - 2ms/step\n",
      "Epoch 31/220\n",
      "117/117 - 0s - loss: 23.6177 - val_loss: 23.6302 - lr: 5.0000e-05 - 211ms/epoch - 2ms/step\n",
      "Epoch 32/220\n",
      "117/117 - 0s - loss: 23.5052 - val_loss: 23.9707 - lr: 5.0000e-05 - 209ms/epoch - 2ms/step\n",
      "Epoch 33/220\n",
      "117/117 - 0s - loss: 23.5124 - val_loss: 23.7033 - lr: 5.0000e-05 - 212ms/epoch - 2ms/step\n",
      "Epoch 34/220\n",
      "117/117 - 0s - loss: 23.3876 - val_loss: 23.6558 - lr: 5.0000e-05 - 209ms/epoch - 2ms/step\n",
      "Epoch 35/220\n",
      "117/117 - 0s - loss: 23.3585 - val_loss: 23.8080 - lr: 5.0000e-05 - 211ms/epoch - 2ms/step\n",
      "Epoch 36/220\n",
      "117/117 - 0s - loss: 23.2325 - val_loss: 23.3484 - lr: 5.0000e-05 - 212ms/epoch - 2ms/step\n",
      "Epoch 37/220\n",
      "117/117 - 0s - loss: 23.2129 - val_loss: 22.8905 - lr: 5.0000e-05 - 232ms/epoch - 2ms/step\n",
      "Epoch 38/220\n",
      "117/117 - 0s - loss: 23.1334 - val_loss: 23.3236 - lr: 5.0000e-05 - 212ms/epoch - 2ms/step\n",
      "Epoch 39/220\n",
      "117/117 - 0s - loss: 22.9396 - val_loss: 23.3222 - lr: 5.0000e-05 - 207ms/epoch - 2ms/step\n",
      "Epoch 40/220\n",
      "117/117 - 0s - loss: 22.9365 - val_loss: 23.1390 - lr: 5.0000e-05 - 209ms/epoch - 2ms/step\n",
      "Epoch 41/220\n",
      "117/117 - 0s - loss: 22.7620 - val_loss: 23.3278 - lr: 5.0000e-05 - 207ms/epoch - 2ms/step\n",
      "Epoch 42/220\n",
      "117/117 - 0s - loss: 22.7702 - val_loss: 23.4166 - lr: 5.0000e-05 - 209ms/epoch - 2ms/step\n",
      "Epoch 43/220\n",
      "117/117 - 0s - loss: 22.5821 - val_loss: 22.9330 - lr: 5.0000e-05 - 206ms/epoch - 2ms/step\n",
      "Epoch 44/220\n",
      "117/117 - 0s - loss: 22.5508 - val_loss: 23.5525 - lr: 5.0000e-05 - 208ms/epoch - 2ms/step\n",
      "Epoch 45/220\n",
      "117/117 - 0s - loss: 22.4553 - val_loss: 23.0685 - lr: 5.0000e-05 - 215ms/epoch - 2ms/step\n",
      "Epoch 46/220\n",
      "117/117 - 0s - loss: 22.3949 - val_loss: 22.6063 - lr: 5.0000e-05 - 236ms/epoch - 2ms/step\n",
      "Epoch 47/220\n",
      "117/117 - 0s - loss: 22.3022 - val_loss: 22.8689 - lr: 5.0000e-05 - 208ms/epoch - 2ms/step\n",
      "Epoch 48/220\n",
      "117/117 - 0s - loss: 22.2091 - val_loss: 22.6731 - lr: 5.0000e-05 - 208ms/epoch - 2ms/step\n",
      "Epoch 49/220\n",
      "117/117 - 0s - loss: 22.0574 - val_loss: 22.7925 - lr: 5.0000e-05 - 207ms/epoch - 2ms/step\n",
      "Epoch 50/220\n",
      "117/117 - 0s - loss: 22.0582 - val_loss: 22.9687 - lr: 5.0000e-05 - 208ms/epoch - 2ms/step\n",
      "Epoch 51/220\n",
      "117/117 - 0s - loss: 21.8500 - val_loss: 23.1357 - lr: 5.0000e-05 - 211ms/epoch - 2ms/step\n",
      "Epoch 52/220\n",
      "117/117 - 0s - loss: 21.6866 - val_loss: 22.5429 - lr: 5.0000e-05 - 227ms/epoch - 2ms/step\n",
      "Epoch 53/220\n",
      "117/117 - 0s - loss: 21.6442 - val_loss: 21.7398 - lr: 5.0000e-05 - 231ms/epoch - 2ms/step\n",
      "Epoch 54/220\n",
      "117/117 - 0s - loss: 21.4552 - val_loss: 22.2470 - lr: 5.0000e-05 - 210ms/epoch - 2ms/step\n",
      "Epoch 55/220\n",
      "117/117 - 0s - loss: 21.2858 - val_loss: 22.4407 - lr: 5.0000e-05 - 207ms/epoch - 2ms/step\n",
      "Epoch 56/220\n",
      "117/117 - 0s - loss: 21.2408 - val_loss: 22.5478 - lr: 5.0000e-05 - 205ms/epoch - 2ms/step\n",
      "Epoch 57/220\n",
      "117/117 - 0s - loss: 21.1512 - val_loss: 21.9978 - lr: 5.0000e-05 - 207ms/epoch - 2ms/step\n",
      "Epoch 58/220\n",
      "117/117 - 0s - loss: 21.1151 - val_loss: 22.2427 - lr: 5.0000e-05 - 208ms/epoch - 2ms/step\n",
      "Epoch 59/220\n",
      "117/117 - 0s - loss: 20.8816 - val_loss: 22.0686 - lr: 5.0000e-05 - 206ms/epoch - 2ms/step\n",
      "Epoch 60/220\n",
      "117/117 - 0s - loss: 20.8015 - val_loss: 21.3397 - lr: 5.0000e-05 - 229ms/epoch - 2ms/step\n",
      "Epoch 61/220\n",
      "117/117 - 0s - loss: 20.7019 - val_loss: 22.1961 - lr: 5.0000e-05 - 214ms/epoch - 2ms/step\n",
      "Epoch 62/220\n",
      "117/117 - 0s - loss: 20.4562 - val_loss: 21.1935 - lr: 5.0000e-05 - 235ms/epoch - 2ms/step\n",
      "Epoch 63/220\n",
      "117/117 - 0s - loss: 20.5292 - val_loss: 21.0219 - lr: 5.0000e-05 - 229ms/epoch - 2ms/step\n",
      "Epoch 64/220\n",
      "117/117 - 0s - loss: 20.3356 - val_loss: 20.6232 - lr: 5.0000e-05 - 230ms/epoch - 2ms/step\n",
      "Epoch 65/220\n",
      "117/117 - 0s - loss: 20.2515 - val_loss: 21.0472 - lr: 5.0000e-05 - 209ms/epoch - 2ms/step\n",
      "Epoch 66/220\n",
      "117/117 - 0s - loss: 19.9576 - val_loss: 21.5167 - lr: 5.0000e-05 - 217ms/epoch - 2ms/step\n",
      "Epoch 67/220\n",
      "117/117 - 0s - loss: 19.8206 - val_loss: 21.0030 - lr: 5.0000e-05 - 228ms/epoch - 2ms/step\n",
      "Epoch 68/220\n",
      "117/117 - 0s - loss: 19.7512 - val_loss: 21.0703 - lr: 5.0000e-05 - 212ms/epoch - 2ms/step\n",
      "Epoch 69/220\n",
      "117/117 - 0s - loss: 19.6766 - val_loss: 20.5460 - lr: 5.0000e-05 - 229ms/epoch - 2ms/step\n",
      "Epoch 70/220\n",
      "117/117 - 0s - loss: 19.4892 - val_loss: 19.9369 - lr: 5.0000e-05 - 228ms/epoch - 2ms/step\n",
      "Epoch 71/220\n",
      "117/117 - 0s - loss: 19.2125 - val_loss: 20.7925 - lr: 5.0000e-05 - 206ms/epoch - 2ms/step\n",
      "Epoch 72/220\n",
      "117/117 - 0s - loss: 19.1912 - val_loss: 18.0392 - lr: 5.0000e-05 - 239ms/epoch - 2ms/step\n",
      "Epoch 73/220\n",
      "117/117 - 0s - loss: 18.9293 - val_loss: 18.1321 - lr: 5.0000e-05 - 208ms/epoch - 2ms/step\n",
      "Epoch 74/220\n",
      "117/117 - 0s - loss: 18.8515 - val_loss: 17.0890 - lr: 5.0000e-05 - 245ms/epoch - 2ms/step\n",
      "Epoch 75/220\n",
      "117/117 - 0s - loss: 18.8054 - val_loss: 17.2043 - lr: 5.0000e-05 - 222ms/epoch - 2ms/step\n",
      "Epoch 76/220\n",
      "117/117 - 0s - loss: 18.6819 - val_loss: 17.9423 - lr: 5.0000e-05 - 209ms/epoch - 2ms/step\n",
      "Epoch 77/220\n",
      "117/117 - 0s - loss: 18.5458 - val_loss: 17.8749 - lr: 5.0000e-05 - 221ms/epoch - 2ms/step\n",
      "Epoch 78/220\n",
      "117/117 - 0s - loss: 18.2715 - val_loss: 15.6429 - lr: 5.0000e-05 - 249ms/epoch - 2ms/step\n",
      "Epoch 79/220\n",
      "117/117 - 0s - loss: 18.1290 - val_loss: 16.7397 - lr: 5.0000e-05 - 219ms/epoch - 2ms/step\n"
     ]
    },
    {
     "name": "stdout",
     "output_type": "stream",
     "text": [
      "Epoch 80/220\n",
      "117/117 - 0s - loss: 17.9475 - val_loss: 15.9063 - lr: 5.0000e-05 - 210ms/epoch - 2ms/step\n",
      "Epoch 81/220\n",
      "117/117 - 0s - loss: 17.7290 - val_loss: 15.5535 - lr: 5.0000e-05 - 233ms/epoch - 2ms/step\n",
      "Epoch 82/220\n",
      "117/117 - 0s - loss: 17.5723 - val_loss: 15.6586 - lr: 4.9500e-05 - 220ms/epoch - 2ms/step\n",
      "Epoch 83/220\n",
      "117/117 - 0s - loss: 17.5460 - val_loss: 15.2734 - lr: 4.9005e-05 - 247ms/epoch - 2ms/step\n",
      "Epoch 84/220\n",
      "117/117 - 0s - loss: 17.2639 - val_loss: 14.9919 - lr: 4.8515e-05 - 254ms/epoch - 2ms/step\n",
      "Epoch 85/220\n",
      "117/117 - 0s - loss: 17.2443 - val_loss: 15.9193 - lr: 4.8030e-05 - 223ms/epoch - 2ms/step\n",
      "Epoch 86/220\n",
      "117/117 - 0s - loss: 17.1334 - val_loss: 15.5744 - lr: 4.7549e-05 - 214ms/epoch - 2ms/step\n",
      "Epoch 87/220\n",
      "117/117 - 0s - loss: 16.8490 - val_loss: 15.9673 - lr: 4.7074e-05 - 206ms/epoch - 2ms/step\n",
      "Epoch 88/220\n",
      "117/117 - 0s - loss: 16.6646 - val_loss: 15.8698 - lr: 4.6603e-05 - 213ms/epoch - 2ms/step\n",
      "Epoch 89/220\n",
      "117/117 - 0s - loss: 16.3014 - val_loss: 14.5881 - lr: 4.6137e-05 - 244ms/epoch - 2ms/step\n",
      "Epoch 90/220\n",
      "117/117 - 0s - loss: 16.2827 - val_loss: 15.3109 - lr: 4.5676e-05 - 212ms/epoch - 2ms/step\n",
      "Epoch 91/220\n",
      "117/117 - 0s - loss: 16.1810 - val_loss: 14.7545 - lr: 4.5219e-05 - 205ms/epoch - 2ms/step\n",
      "Epoch 92/220\n",
      "117/117 - 0s - loss: 15.9552 - val_loss: 14.1133 - lr: 4.4767e-05 - 228ms/epoch - 2ms/step\n",
      "Epoch 93/220\n",
      "117/117 - 0s - loss: 15.9519 - val_loss: 14.7279 - lr: 4.4319e-05 - 208ms/epoch - 2ms/step\n",
      "Epoch 94/220\n",
      "117/117 - 0s - loss: 15.7643 - val_loss: 13.7782 - lr: 4.3876e-05 - 228ms/epoch - 2ms/step\n",
      "Epoch 95/220\n",
      "117/117 - 0s - loss: 15.4417 - val_loss: 13.7626 - lr: 4.3437e-05 - 229ms/epoch - 2ms/step\n",
      "Epoch 96/220\n",
      "117/117 - 0s - loss: 15.2866 - val_loss: 12.7032 - lr: 4.3003e-05 - 229ms/epoch - 2ms/step\n",
      "Epoch 97/220\n",
      "117/117 - 0s - loss: 15.2420 - val_loss: 12.0293 - lr: 4.2573e-05 - 229ms/epoch - 2ms/step\n",
      "Epoch 98/220\n",
      "117/117 - 0s - loss: 15.0164 - val_loss: 12.4296 - lr: 4.2147e-05 - 206ms/epoch - 2ms/step\n",
      "Epoch 99/220\n",
      "117/117 - 0s - loss: 14.8586 - val_loss: 11.4360 - lr: 4.1726e-05 - 230ms/epoch - 2ms/step\n",
      "Epoch 100/220\n",
      "117/117 - 0s - loss: 14.7100 - val_loss: 12.0783 - lr: 4.1308e-05 - 207ms/epoch - 2ms/step\n",
      "Epoch 101/220\n",
      "117/117 - 0s - loss: 14.5075 - val_loss: 12.0287 - lr: 4.0895e-05 - 208ms/epoch - 2ms/step\n",
      "Epoch 102/220\n",
      "117/117 - 0s - loss: 14.5221 - val_loss: 12.0989 - lr: 4.0486e-05 - 206ms/epoch - 2ms/step\n",
      "Epoch 103/220\n",
      "117/117 - 0s - loss: 14.2701 - val_loss: 11.6945 - lr: 4.0082e-05 - 206ms/epoch - 2ms/step\n",
      "Epoch 104/220\n",
      "117/117 - 0s - loss: 14.1088 - val_loss: 11.0370 - lr: 3.9681e-05 - 227ms/epoch - 2ms/step\n",
      "Epoch 105/220\n",
      "117/117 - 0s - loss: 13.9134 - val_loss: 11.7631 - lr: 3.9284e-05 - 207ms/epoch - 2ms/step\n",
      "Epoch 106/220\n",
      "117/117 - 0s - loss: 13.8511 - val_loss: 11.8082 - lr: 3.8891e-05 - 209ms/epoch - 2ms/step\n",
      "Epoch 107/220\n",
      "117/117 - 0s - loss: 13.5188 - val_loss: 11.5605 - lr: 3.8502e-05 - 206ms/epoch - 2ms/step\n",
      "Epoch 108/220\n",
      "117/117 - 0s - loss: 13.5613 - val_loss: 11.3056 - lr: 3.8117e-05 - 208ms/epoch - 2ms/step\n",
      "Epoch 109/220\n",
      "117/117 - 0s - loss: 13.2019 - val_loss: 10.7995 - lr: 3.7736e-05 - 230ms/epoch - 2ms/step\n",
      "Epoch 110/220\n",
      "117/117 - 0s - loss: 13.2536 - val_loss: 11.0051 - lr: 3.7359e-05 - 212ms/epoch - 2ms/step\n",
      "Epoch 111/220\n",
      "117/117 - 0s - loss: 13.0141 - val_loss: 10.5738 - lr: 3.6985e-05 - 230ms/epoch - 2ms/step\n",
      "Epoch 112/220\n",
      "117/117 - 0s - loss: 12.9493 - val_loss: 10.5870 - lr: 3.6615e-05 - 211ms/epoch - 2ms/step\n",
      "Epoch 113/220\n",
      "117/117 - 0s - loss: 12.7409 - val_loss: 10.1930 - lr: 3.6249e-05 - 234ms/epoch - 2ms/step\n",
      "Epoch 114/220\n",
      "117/117 - 0s - loss: 12.5531 - val_loss: 10.0626 - lr: 3.5887e-05 - 228ms/epoch - 2ms/step\n",
      "Epoch 115/220\n",
      "117/117 - 0s - loss: 12.6054 - val_loss: 9.7585 - lr: 3.5528e-05 - 231ms/epoch - 2ms/step\n",
      "Epoch 116/220\n",
      "117/117 - 0s - loss: 12.4597 - val_loss: 10.2629 - lr: 3.5172e-05 - 210ms/epoch - 2ms/step\n",
      "Epoch 117/220\n",
      "117/117 - 0s - loss: 12.1209 - val_loss: 10.2487 - lr: 3.4821e-05 - 206ms/epoch - 2ms/step\n",
      "Epoch 118/220\n",
      "117/117 - 0s - loss: 11.9936 - val_loss: 9.8577 - lr: 3.4472e-05 - 208ms/epoch - 2ms/step\n",
      "Epoch 119/220\n",
      "117/117 - 0s - loss: 11.7262 - val_loss: 9.7118 - lr: 3.4128e-05 - 227ms/epoch - 2ms/step\n",
      "Epoch 120/220\n",
      "117/117 - 0s - loss: 11.6656 - val_loss: 9.5862 - lr: 3.3786e-05 - 227ms/epoch - 2ms/step\n",
      "Epoch 121/220\n",
      "117/117 - 0s - loss: 11.4566 - val_loss: 9.4108 - lr: 3.3449e-05 - 230ms/epoch - 2ms/step\n",
      "Epoch 122/220\n",
      "117/117 - 0s - loss: 11.6351 - val_loss: 9.2126 - lr: 3.3114e-05 - 246ms/epoch - 2ms/step\n",
      "Epoch 123/220\n",
      "117/117 - 0s - loss: 11.3335 - val_loss: 9.2183 - lr: 3.2783e-05 - 228ms/epoch - 2ms/step\n",
      "Epoch 124/220\n",
      "117/117 - 0s - loss: 11.1665 - val_loss: 9.5077 - lr: 3.2455e-05 - 225ms/epoch - 2ms/step\n",
      "Epoch 125/220\n",
      "117/117 - 0s - loss: 10.9557 - val_loss: 9.9455 - lr: 3.2131e-05 - 222ms/epoch - 2ms/step\n",
      "Epoch 126/220\n",
      "117/117 - 0s - loss: 10.6683 - val_loss: 9.7872 - lr: 3.1809e-05 - 220ms/epoch - 2ms/step\n",
      "Epoch 127/220\n",
      "117/117 - 0s - loss: 10.5852 - val_loss: 9.8917 - lr: 3.1491e-05 - 213ms/epoch - 2ms/step\n",
      "Epoch 128/220\n",
      "117/117 - 0s - loss: 10.7403 - val_loss: 9.6617 - lr: 3.1176e-05 - 208ms/epoch - 2ms/step\n",
      "Epoch 129/220\n",
      "117/117 - 0s - loss: 10.4951 - val_loss: 9.8585 - lr: 3.0864e-05 - 209ms/epoch - 2ms/step\n",
      "Epoch 130/220\n",
      "117/117 - 0s - loss: 10.4184 - val_loss: 9.1383 - lr: 3.0556e-05 - 230ms/epoch - 2ms/step\n",
      "Epoch 131/220\n",
      "117/117 - 0s - loss: 10.1137 - val_loss: 8.6238 - lr: 3.0250e-05 - 241ms/epoch - 2ms/step\n",
      "Epoch 132/220\n",
      "117/117 - 0s - loss: 10.0843 - val_loss: 8.7673 - lr: 2.9948e-05 - 208ms/epoch - 2ms/step\n",
      "Epoch 133/220\n",
      "117/117 - 0s - loss: 10.1183 - val_loss: 8.6283 - lr: 2.9648e-05 - 211ms/epoch - 2ms/step\n",
      "Epoch 134/220\n",
      "117/117 - 0s - loss: 9.8557 - val_loss: 8.0257 - lr: 2.9352e-05 - 234ms/epoch - 2ms/step\n",
      "Epoch 135/220\n",
      "117/117 - 0s - loss: 9.5981 - val_loss: 8.2058 - lr: 2.9058e-05 - 207ms/epoch - 2ms/step\n",
      "Epoch 136/220\n",
      "117/117 - 0s - loss: 9.7189 - val_loss: 8.3071 - lr: 2.8768e-05 - 209ms/epoch - 2ms/step\n",
      "Epoch 137/220\n",
      "117/117 - 0s - loss: 9.5300 - val_loss: 7.9564 - lr: 2.8480e-05 - 228ms/epoch - 2ms/step\n",
      "Epoch 138/220\n",
      "117/117 - 0s - loss: 9.4761 - val_loss: 7.4412 - lr: 2.8195e-05 - 231ms/epoch - 2ms/step\n",
      "Epoch 139/220\n",
      "117/117 - 0s - loss: 9.4544 - val_loss: 7.2921 - lr: 2.7913e-05 - 230ms/epoch - 2ms/step\n",
      "Epoch 140/220\n",
      "117/117 - 0s - loss: 9.0826 - val_loss: 7.2361 - lr: 2.7634e-05 - 235ms/epoch - 2ms/step\n",
      "Epoch 141/220\n",
      "117/117 - 0s - loss: 9.2782 - val_loss: 6.4689 - lr: 2.7358e-05 - 234ms/epoch - 2ms/step\n",
      "Epoch 142/220\n",
      "117/117 - 0s - loss: 8.7708 - val_loss: 7.2451 - lr: 2.7084e-05 - 209ms/epoch - 2ms/step\n",
      "Epoch 143/220\n",
      "117/117 - 0s - loss: 8.7833 - val_loss: 7.1107 - lr: 2.6813e-05 - 207ms/epoch - 2ms/step\n",
      "Epoch 144/220\n",
      "117/117 - 0s - loss: 8.5790 - val_loss: 6.8326 - lr: 2.6545e-05 - 207ms/epoch - 2ms/step\n",
      "Epoch 145/220\n",
      "117/117 - 0s - loss: 8.6210 - val_loss: 7.2377 - lr: 2.6280e-05 - 206ms/epoch - 2ms/step\n",
      "Epoch 146/220\n",
      "117/117 - 0s - loss: 8.5812 - val_loss: 7.1095 - lr: 2.6017e-05 - 207ms/epoch - 2ms/step\n",
      "Epoch 147/220\n",
      "117/117 - 0s - loss: 8.2429 - val_loss: 7.1112 - lr: 2.5757e-05 - 208ms/epoch - 2ms/step\n",
      "Epoch 148/220\n",
      "117/117 - 0s - loss: 8.2128 - val_loss: 6.9396 - lr: 2.5499e-05 - 208ms/epoch - 2ms/step\n",
      "Epoch 149/220\n",
      "117/117 - 0s - loss: 8.1681 - val_loss: 6.4563 - lr: 2.5244e-05 - 229ms/epoch - 2ms/step\n",
      "Epoch 150/220\n",
      "117/117 - 0s - loss: 8.0218 - val_loss: 7.0441 - lr: 2.4992e-05 - 208ms/epoch - 2ms/step\n",
      "Epoch 151/220\n",
      "117/117 - 0s - loss: 8.0595 - val_loss: 7.3617 - lr: 2.4742e-05 - 206ms/epoch - 2ms/step\n",
      "Epoch 152/220\n",
      "117/117 - 0s - loss: 7.9063 - val_loss: 7.2643 - lr: 2.4495e-05 - 206ms/epoch - 2ms/step\n",
      "Epoch 153/220\n",
      "117/117 - 0s - loss: 7.5534 - val_loss: 7.6300 - lr: 2.4250e-05 - 209ms/epoch - 2ms/step\n",
      "Epoch 154/220\n",
      "117/117 - 0s - loss: 7.7843 - val_loss: 7.1077 - lr: 2.4007e-05 - 222ms/epoch - 2ms/step\n",
      "Epoch 155/220\n",
      "117/117 - 0s - loss: 7.6157 - val_loss: 6.7779 - lr: 2.3767e-05 - 226ms/epoch - 2ms/step\n",
      "Epoch 156/220\n",
      "117/117 - 0s - loss: 7.4914 - val_loss: 6.4521 - lr: 2.3529e-05 - 258ms/epoch - 2ms/step\n",
      "Epoch 157/220\n",
      "117/117 - 0s - loss: 7.3159 - val_loss: 6.4094 - lr: 2.3294e-05 - 245ms/epoch - 2ms/step\n",
      "Epoch 158/220\n",
      "117/117 - 0s - loss: 7.2694 - val_loss: 6.4619 - lr: 2.3061e-05 - 217ms/epoch - 2ms/step\n"
     ]
    },
    {
     "name": "stdout",
     "output_type": "stream",
     "text": [
      "Epoch 159/220\n",
      "117/117 - 0s - loss: 7.0568 - val_loss: 6.4873 - lr: 2.2830e-05 - 220ms/epoch - 2ms/step\n",
      "Epoch 160/220\n",
      "117/117 - 0s - loss: 7.2527 - val_loss: 6.2577 - lr: 2.2602e-05 - 233ms/epoch - 2ms/step\n",
      "Epoch 161/220\n",
      "117/117 - 0s - loss: 7.0704 - val_loss: 5.9438 - lr: 2.2376e-05 - 239ms/epoch - 2ms/step\n",
      "Epoch 162/220\n",
      "117/117 - 0s - loss: 6.8852 - val_loss: 5.8358 - lr: 2.2152e-05 - 232ms/epoch - 2ms/step\n",
      "Epoch 163/220\n",
      "117/117 - 0s - loss: 6.7373 - val_loss: 5.7328 - lr: 2.1931e-05 - 229ms/epoch - 2ms/step\n",
      "Epoch 164/220\n",
      "117/117 - 0s - loss: 6.8391 - val_loss: 6.1289 - lr: 2.1712e-05 - 208ms/epoch - 2ms/step\n",
      "Epoch 165/220\n",
      "117/117 - 0s - loss: 6.7675 - val_loss: 5.7136 - lr: 2.1494e-05 - 229ms/epoch - 2ms/step\n",
      "Epoch 166/220\n",
      "117/117 - 0s - loss: 6.4770 - val_loss: 5.8041 - lr: 2.1279e-05 - 207ms/epoch - 2ms/step\n",
      "Epoch 167/220\n",
      "117/117 - 0s - loss: 6.4493 - val_loss: 6.0073 - lr: 2.1067e-05 - 207ms/epoch - 2ms/step\n",
      "Epoch 168/220\n",
      "117/117 - 0s - loss: 6.4381 - val_loss: 5.8434 - lr: 2.0856e-05 - 206ms/epoch - 2ms/step\n",
      "Epoch 169/220\n",
      "117/117 - 0s - loss: 6.6044 - val_loss: 5.5329 - lr: 2.0647e-05 - 227ms/epoch - 2ms/step\n",
      "Epoch 170/220\n",
      "117/117 - 0s - loss: 6.4991 - val_loss: 5.3987 - lr: 2.0441e-05 - 231ms/epoch - 2ms/step\n",
      "Epoch 171/220\n",
      "117/117 - 0s - loss: 6.4082 - val_loss: 5.2354 - lr: 2.0237e-05 - 228ms/epoch - 2ms/step\n",
      "Epoch 172/220\n",
      "117/117 - 0s - loss: 6.2760 - val_loss: 5.4678 - lr: 2.0034e-05 - 208ms/epoch - 2ms/step\n",
      "Epoch 173/220\n",
      "117/117 - 0s - loss: 6.2524 - val_loss: 5.5415 - lr: 1.9834e-05 - 207ms/epoch - 2ms/step\n",
      "Epoch 174/220\n",
      "117/117 - 0s - loss: 6.1015 - val_loss: 5.3732 - lr: 1.9636e-05 - 206ms/epoch - 2ms/step\n",
      "Epoch 175/220\n",
      "117/117 - 0s - loss: 6.2306 - val_loss: 5.1744 - lr: 1.9439e-05 - 228ms/epoch - 2ms/step\n",
      "Epoch 176/220\n",
      "117/117 - 0s - loss: 6.0060 - val_loss: 4.8836 - lr: 1.9245e-05 - 228ms/epoch - 2ms/step\n",
      "Epoch 177/220\n",
      "117/117 - 0s - loss: 5.9980 - val_loss: 5.1725 - lr: 1.9052e-05 - 209ms/epoch - 2ms/step\n",
      "Epoch 178/220\n",
      "117/117 - 0s - loss: 6.0406 - val_loss: 5.0697 - lr: 1.8862e-05 - 207ms/epoch - 2ms/step\n",
      "Epoch 179/220\n",
      "117/117 - 0s - loss: 5.8705 - val_loss: 5.2936 - lr: 1.8673e-05 - 207ms/epoch - 2ms/step\n",
      "Epoch 180/220\n",
      "117/117 - 0s - loss: 5.8241 - val_loss: 5.2010 - lr: 1.8486e-05 - 207ms/epoch - 2ms/step\n",
      "Epoch 181/220\n",
      "117/117 - 0s - loss: 5.9833 - val_loss: 5.2579 - lr: 1.8302e-05 - 206ms/epoch - 2ms/step\n",
      "Epoch 182/220\n",
      "117/117 - 0s - loss: 5.5487 - val_loss: 5.3547 - lr: 1.8119e-05 - 205ms/epoch - 2ms/step\n",
      "Epoch 183/220\n",
      "117/117 - 0s - loss: 5.8482 - val_loss: 4.9875 - lr: 1.7937e-05 - 206ms/epoch - 2ms/step\n",
      "Epoch 184/220\n",
      "117/117 - 0s - loss: 5.5680 - val_loss: 5.1268 - lr: 1.7758e-05 - 206ms/epoch - 2ms/step\n",
      "Epoch 185/220\n",
      "117/117 - 0s - loss: 5.6569 - val_loss: 4.9290 - lr: 1.7580e-05 - 207ms/epoch - 2ms/step\n",
      "Epoch 186/220\n",
      "117/117 - 0s - loss: 5.6237 - val_loss: 4.8547 - lr: 1.7405e-05 - 228ms/epoch - 2ms/step\n",
      "Epoch 187/220\n",
      "117/117 - 0s - loss: 5.3488 - val_loss: 4.5913 - lr: 1.7231e-05 - 229ms/epoch - 2ms/step\n",
      "Epoch 188/220\n",
      "117/117 - 0s - loss: 5.2739 - val_loss: 4.7826 - lr: 1.7058e-05 - 206ms/epoch - 2ms/step\n",
      "Epoch 189/220\n",
      "117/117 - 0s - loss: 5.3258 - val_loss: 4.4890 - lr: 1.6888e-05 - 229ms/epoch - 2ms/step\n",
      "Epoch 190/220\n",
      "117/117 - 0s - loss: 5.2263 - val_loss: 4.6838 - lr: 1.6719e-05 - 206ms/epoch - 2ms/step\n",
      "Epoch 191/220\n",
      "117/117 - 0s - loss: 5.0507 - val_loss: 5.1524 - lr: 1.6552e-05 - 208ms/epoch - 2ms/step\n",
      "Epoch 192/220\n",
      "117/117 - 0s - loss: 5.2081 - val_loss: 5.0555 - lr: 1.6386e-05 - 209ms/epoch - 2ms/step\n",
      "Epoch 193/220\n",
      "117/117 - 0s - loss: 4.9437 - val_loss: 4.6508 - lr: 1.6222e-05 - 205ms/epoch - 2ms/step\n",
      "Epoch 194/220\n",
      "117/117 - 0s - loss: 4.9458 - val_loss: 4.7611 - lr: 1.6060e-05 - 206ms/epoch - 2ms/step\n",
      "Epoch 195/220\n",
      "117/117 - 0s - loss: 4.9462 - val_loss: 4.6450 - lr: 1.5899e-05 - 207ms/epoch - 2ms/step\n",
      "Epoch 196/220\n",
      "117/117 - 0s - loss: 5.1563 - val_loss: 4.3849 - lr: 1.5740e-05 - 229ms/epoch - 2ms/step\n",
      "Epoch 197/220\n",
      "117/117 - 0s - loss: 5.1249 - val_loss: 4.4984 - lr: 1.5583e-05 - 209ms/epoch - 2ms/step\n",
      "Epoch 198/220\n",
      "117/117 - 0s - loss: 5.0134 - val_loss: 4.7116 - lr: 1.5427e-05 - 206ms/epoch - 2ms/step\n",
      "Epoch 199/220\n",
      "117/117 - 0s - loss: 5.0719 - val_loss: 4.5531 - lr: 1.5273e-05 - 207ms/epoch - 2ms/step\n",
      "Epoch 200/220\n",
      "117/117 - 0s - loss: 4.7977 - val_loss: 4.1938 - lr: 1.5120e-05 - 228ms/epoch - 2ms/step\n",
      "Epoch 201/220\n",
      "117/117 - 0s - loss: 4.7934 - val_loss: 4.3579 - lr: 1.4969e-05 - 208ms/epoch - 2ms/step\n",
      "Epoch 202/220\n",
      "117/117 - 0s - loss: 4.7899 - val_loss: 4.0961 - lr: 1.4819e-05 - 228ms/epoch - 2ms/step\n",
      "Epoch 203/220\n",
      "117/117 - 0s - loss: 4.7827 - val_loss: 4.2409 - lr: 1.4671e-05 - 206ms/epoch - 2ms/step\n",
      "Epoch 204/220\n",
      "117/117 - 0s - loss: 4.7346 - val_loss: 4.0751 - lr: 1.4524e-05 - 229ms/epoch - 2ms/step\n",
      "Epoch 205/220\n",
      "117/117 - 0s - loss: 4.9361 - val_loss: 4.1556 - lr: 1.4379e-05 - 207ms/epoch - 2ms/step\n",
      "Epoch 206/220\n",
      "117/117 - 0s - loss: 5.0643 - val_loss: 3.8881 - lr: 1.4235e-05 - 230ms/epoch - 2ms/step\n",
      "Epoch 207/220\n",
      "117/117 - 0s - loss: 4.5236 - val_loss: 3.9151 - lr: 1.4093e-05 - 208ms/epoch - 2ms/step\n",
      "Epoch 208/220\n",
      "117/117 - 0s - loss: 4.9749 - val_loss: 4.2566 - lr: 1.3952e-05 - 207ms/epoch - 2ms/step\n",
      "Epoch 209/220\n",
      "117/117 - 0s - loss: 4.8794 - val_loss: 4.0443 - lr: 1.3813e-05 - 208ms/epoch - 2ms/step\n",
      "Epoch 210/220\n",
      "117/117 - 0s - loss: 4.7487 - val_loss: 3.7946 - lr: 1.3674e-05 - 228ms/epoch - 2ms/step\n",
      "Epoch 211/220\n",
      "117/117 - 0s - loss: 4.5542 - val_loss: 3.9393 - lr: 1.3538e-05 - 205ms/epoch - 2ms/step\n",
      "Epoch 212/220\n",
      "117/117 - 0s - loss: 4.5299 - val_loss: 3.8046 - lr: 1.3402e-05 - 208ms/epoch - 2ms/step\n",
      "Epoch 213/220\n",
      "117/117 - 0s - loss: 4.5884 - val_loss: 3.8565 - lr: 1.3268e-05 - 207ms/epoch - 2ms/step\n",
      "Epoch 214/220\n",
      "117/117 - 0s - loss: 4.5058 - val_loss: 4.0334 - lr: 1.3136e-05 - 213ms/epoch - 2ms/step\n",
      "Epoch 215/220\n",
      "117/117 - 0s - loss: 4.6155 - val_loss: 3.8905 - lr: 1.3004e-05 - 219ms/epoch - 2ms/step\n",
      "Epoch 216/220\n",
      "117/117 - 0s - loss: 4.5134 - val_loss: 4.3880 - lr: 1.2874e-05 - 215ms/epoch - 2ms/step\n",
      "Epoch 217/220\n",
      "117/117 - 0s - loss: 4.5405 - val_loss: 4.0228 - lr: 1.2745e-05 - 226ms/epoch - 2ms/step\n",
      "Epoch 218/220\n",
      "117/117 - 0s - loss: 4.3346 - val_loss: 3.8304 - lr: 1.2618e-05 - 225ms/epoch - 2ms/step\n",
      "Epoch 219/220\n",
      "117/117 - 0s - loss: 4.6236 - val_loss: 4.4655 - lr: 1.2492e-05 - 234ms/epoch - 2ms/step\n",
      "Epoch 220/220\n",
      "117/117 - 0s - loss: 4.4670 - val_loss: 4.2907 - lr: 1.2367e-05 - 228ms/epoch - 2ms/step\n"
     ]
    }
   ],
   "source": [
    "history = model.fit(x_train, y_train, batch_size = 4, validation_data = (x_test, y_test), epochs=220, verbose=2,\n",
    "                   use_multiprocessing = True, callbacks = [checkpoint, lr_scheduler])"
   ]
  },
  {
   "cell_type": "code",
   "execution_count": 74,
   "id": "73afe8ce",
   "metadata": {},
   "outputs": [
    {
     "data": {
      "text/plain": [
       "[<matplotlib.lines.Line2D at 0x28843f640>]"
      ]
     },
     "execution_count": 74,
     "metadata": {},
     "output_type": "execute_result"
    },
    {
     "data": {
      "image/png": "[encoded data removed]",
      "text/plain": [
       "<Figure size 640x480 with 1 Axes>"
      ]
     },
     "metadata": {},
     "output_type": "display_data"
    }
   ],
   "source": [
    "plt.plot(history.history['loss'])\n",
    "plt.plot(history.history['val_loss'])"
   ]
  },
  {
   "cell_type": "code",
   "execution_count": 75,
   "id": "b8b61612",
   "metadata": {},
   "outputs": [
    {
     "name": "stdout",
     "output_type": "stream",
     "text": [
      "17/17 [==============================] - 0s 1ms/step\n"
     ]
    },
    {
     "data": {
      "text/plain": [
       "(516, 1)"
      ]
     },
     "execution_count": 75,
     "metadata": {},
     "output_type": "execute_result"
    }
   ],
   "source": [
    "predictions = model.predict(xin)\n",
    "predictions = np.round(predictions).astype('int32')\n",
    "predictions[predictions < 0] = 0\n",
    "predictions.shape"
   ]
  },
  {
   "cell_type": "code",
   "execution_count": 76,
   "id": "8baea8f8",
   "metadata": {},
   "outputs": [
    {
     "name": "stdout",
     "output_type": "stream",
     "text": [
      "Train Dataset MAE: 3.7613939645607326\n"
     ]
    }
   ],
   "source": [
    "dataset_mae = np.mean(np.abs(predictions - yout))\n",
    "print(f'Train Dataset MAE: {dataset_mae}')"
   ]
  },
  {
   "cell_type": "code",
   "execution_count": null,
   "id": "dc3659fb",
   "metadata": {},
   "outputs": [],
   "source": []
  }
 ],
 "metadata": {
  "kernelspec": {
   "display_name": "Python 3 (ipykernel)",
   "language": "python",
   "name": "python3"
  },
  "language_info": {
   "codemirror_mode": {
    "name": "ipython",
    "version": 3
   },
   "file_extension": ".py",
   "mimetype": "text/x-python",
   "name": "python",
   "nbconvert_exporter": "python",
   "pygments_lexer": "ipython3",
   "version": "3.9.15"
  }
 },
 "nbformat": 4,
 "nbformat_minor": 5
}
