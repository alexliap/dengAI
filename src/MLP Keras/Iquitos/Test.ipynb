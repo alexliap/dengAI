{
 "cells": [
  {
   "cell_type": "markdown",
   "id": "d48f5b60",
   "metadata": {},
   "source": [
    "# - Test Time"
   ]
  },
  {
   "cell_type": "code",
   "execution_count": 1,
   "id": "7a4cb381",
   "metadata": {},
   "outputs": [],
   "source": [
    "import pandas as pd\n",
    "import numpy as np\n",
    "import pickle\n",
    "import warnings\n",
    "import matplotlib.pyplot as plt\n",
    "from tensorflow.keras.models import load_model\n",
    "warnings.filterwarnings(\"ignore\")"
   ]
  },
  {
   "cell_type": "code",
   "execution_count": 2,
   "id": "fc487396",
   "metadata": {},
   "outputs": [],
   "source": [
    "nb_variables = {'window': 4, 'shift': -1}"
   ]
  },
  {
   "cell_type": "code",
   "execution_count": 3,
   "id": "ade9fc72",
   "metadata": {},
   "outputs": [],
   "source": [
    "# ---- Testing ---- #\n",
    "x_test = pd.read_csv('../../dengue_features_test.csv', index_col = 0)\n",
    "x_test = x_test.loc['iq']\n",
    "x_test = x_test.set_index('week_start_date')\n",
    "x_test.index = pd.to_datetime(x_test.index)\n",
    "x_test.sort_index(inplace = True)"
   ]
  },
  {
   "cell_type": "code",
   "execution_count": 4,
   "id": "459af121",
   "metadata": {},
   "outputs": [
    {
     "name": "stdout",
     "output_type": "stream",
     "text": [
      "- Percentage of missing values across the entire dataset 0.9% \n",
      "\n",
      "- New percentage of missing values across the entire dataset 0.5%\n"
     ]
    }
   ],
   "source": [
    "perc = np.round(100 * x_test.isna().sum().sum() / (len(x_test) * len(x_test.columns)), 2)\n",
    "print(f'- Percentage of missing values across the entire dataset {perc}% \\n')\n",
    "\n",
    "for col in x_test.columns[:-1]: # exclude the label variable\n",
    "    x_test[col] = x_test[col].fillna(x_test.rolling(window = nb_variables['window'],\n",
    "                                                    min_periods = 1).mean()[col])\n",
    "    \n",
    "new_perc = np.round(100 * x_test.isna().sum().sum() / (len(x_test) * len(x_test.columns)), 2)\n",
    "print(f'- New percentage of missing values across the entire dataset {new_perc}%')"
   ]
  },
  {
   "cell_type": "code",
   "execution_count": 5,
   "id": "e7edf8d9",
   "metadata": {},
   "outputs": [
    {
     "name": "stdout",
     "output_type": "stream",
     "text": [
      "- Percentage of missing values across the entire dataset 0.0%\n"
     ]
    }
   ],
   "source": [
    "x_test = x_test.fillna(0)\n",
    "new_perc = np.round(100 * x_test.isna().sum().sum() / (len(x_test) * len(x_test.columns)), 2)\n",
    "print(f'- Percentage of missing values across the entire dataset {new_perc}%')"
   ]
  },
  {
   "cell_type": "markdown",
   "id": "0fdd5709",
   "metadata": {},
   "source": [
    "# - Shift the test data like the training data"
   ]
  },
  {
   "cell_type": "code",
   "execution_count": 6,
   "id": "d62fb997",
   "metadata": {},
   "outputs": [],
   "source": [
    "df_tp1 = x_test.shift(nb_variables['shift']).iloc[:nb_variables['shift'], :]"
   ]
  },
  {
   "cell_type": "code",
   "execution_count": 7,
   "id": "343d7eaa",
   "metadata": {},
   "outputs": [],
   "source": [
    "for i in range(len(df_tp1.columns)):\n",
    "    df_tp1.rename(columns = {(df_tp1.columns[i]) : (df_tp1.columns[i] + '_tp1')}, inplace = True)"
   ]
  },
  {
   "cell_type": "code",
   "execution_count": 8,
   "id": "5f115466",
   "metadata": {},
   "outputs": [],
   "source": [
    "new_df = pd.concat([x_test.iloc[:-1, :], df_tp1], axis = 1)"
   ]
  },
  {
   "cell_type": "code",
   "execution_count": 9,
   "id": "582bca46",
   "metadata": {},
   "outputs": [
    {
     "data": {
      "text/plain": [
       "(259, 44)"
      ]
     },
     "execution_count": 9,
     "metadata": {},
     "output_type": "execute_result"
    }
   ],
   "source": [
    "new_df.shape"
   ]
  },
  {
   "cell_type": "code",
   "execution_count": 9,
   "id": "b300c2a2",
   "metadata": {},
   "outputs": [],
   "source": [
    "from sklearn.preprocessing import StandardScaler\n",
    "import pickle\n",
    "scaler = pickle.load(open('../models/iq_scaler', \"rb\"))\n",
    "new_df = scaler.transform(new_df)"
   ]
  },
  {
   "cell_type": "markdown",
   "id": "efbd7810",
   "metadata": {},
   "source": [
    "# - Load the Model"
   ]
  },
  {
   "cell_type": "code",
   "execution_count": 10,
   "id": "dc2bd58f",
   "metadata": {},
   "outputs": [
    {
     "name": "stdout",
     "output_type": "stream",
     "text": [
      "5/5 [==============================] - 0s 868us/step\n"
     ]
    },
    {
     "name": "stderr",
     "output_type": "stream",
     "text": [
      "2023-01-27 17:58:52.994496: W tensorflow/tsl/platform/profile_utils/cpu_utils.cc:128] Failed to get CPU frequency: 0 Hz\n"
     ]
    },
    {
     "data": {
      "text/plain": [
       "(155, 1)"
      ]
     },
     "execution_count": 10,
     "metadata": {},
     "output_type": "execute_result"
    }
   ],
   "source": [
    "model = load_model('../models/iq_mlp.keras')\n",
    "predictions = model.predict(new_df)\n",
    "predictions = np.round(predictions).astype('int32')\n",
    "predictions[predictions < 0] = 0\n",
    "predictions.shape"
   ]
  },
  {
   "cell_type": "markdown",
   "id": "daa67e6d",
   "metadata": {},
   "source": [
    "- Add a row according to the mean of the last 4 predictions to match the dimension needed"
   ]
  },
  {
   "cell_type": "code",
   "execution_count": 11,
   "id": "24ff6fc3",
   "metadata": {},
   "outputs": [
    {
     "data": {
      "text/plain": [
       "(156,)"
      ]
     },
     "execution_count": 11,
     "metadata": {},
     "output_type": "execute_result"
    }
   ],
   "source": [
    "value = np.round(np.mean(predictions[-4:])).astype('int32')\n",
    "predictions = np.append([predictions], [value])\n",
    "predictions.shape"
   ]
  },
  {
   "cell_type": "code",
   "execution_count": 12,
   "id": "06c48159",
   "metadata": {},
   "outputs": [
    {
     "data": {
      "text/html": [
       "<div>\n",
       "<style scoped>\n",
       "    .dataframe tbody tr th:only-of-type {\n",
       "        vertical-align: middle;\n",
       "    }\n",
       "\n",
       "    .dataframe tbody tr th {\n",
       "        vertical-align: top;\n",
       "    }\n",
       "\n",
       "    .dataframe thead th {\n",
       "        text-align: right;\n",
       "    }\n",
       "</style>\n",
       "<table border=\"1\" class=\"dataframe\">\n",
       "  <thead>\n",
       "    <tr style=\"text-align: right;\">\n",
       "      <th></th>\n",
       "      <th>year</th>\n",
       "      <th>weekofyear</th>\n",
       "    </tr>\n",
       "    <tr>\n",
       "      <th>city</th>\n",
       "      <th></th>\n",
       "      <th></th>\n",
       "    </tr>\n",
       "  </thead>\n",
       "  <tbody>\n",
       "    <tr>\n",
       "      <th>iq</th>\n",
       "      <td>2010</td>\n",
       "      <td>26</td>\n",
       "    </tr>\n",
       "    <tr>\n",
       "      <th>iq</th>\n",
       "      <td>2010</td>\n",
       "      <td>27</td>\n",
       "    </tr>\n",
       "    <tr>\n",
       "      <th>iq</th>\n",
       "      <td>2010</td>\n",
       "      <td>28</td>\n",
       "    </tr>\n",
       "    <tr>\n",
       "      <th>iq</th>\n",
       "      <td>2010</td>\n",
       "      <td>29</td>\n",
       "    </tr>\n",
       "    <tr>\n",
       "      <th>iq</th>\n",
       "      <td>2010</td>\n",
       "      <td>30</td>\n",
       "    </tr>\n",
       "  </tbody>\n",
       "</table>\n",
       "</div>"
      ],
      "text/plain": [
       "      year  weekofyear\n",
       "city                  \n",
       "iq    2010          26\n",
       "iq    2010          27\n",
       "iq    2010          28\n",
       "iq    2010          29\n",
       "iq    2010          30"
      ]
     },
     "execution_count": 12,
     "metadata": {},
     "output_type": "execute_result"
    }
   ],
   "source": [
    "submission = pd.read_csv('../../dengue_features_test.csv', index_col = 0)\n",
    "submission = submission.loc['iq']\n",
    "submission = submission.loc[:, ['year', 'weekofyear']]\n",
    "submission.head()"
   ]
  },
  {
   "cell_type": "code",
   "execution_count": 13,
   "id": "ca56b7e9",
   "metadata": {},
   "outputs": [],
   "source": [
    "predictions = pd.Series(predictions)\n",
    "predictions.index = submission.index\n",
    "submission = pd.concat([submission, predictions], axis = 1)\n",
    "submission.columns = ['year', 'weekofyear', 'total_cases']"
   ]
  },
  {
   "cell_type": "code",
   "execution_count": 14,
   "id": "521caa57",
   "metadata": {},
   "outputs": [
    {
     "data": {
      "text/html": [
       "<div>\n",
       "<style scoped>\n",
       "    .dataframe tbody tr th:only-of-type {\n",
       "        vertical-align: middle;\n",
       "    }\n",
       "\n",
       "    .dataframe tbody tr th {\n",
       "        vertical-align: top;\n",
       "    }\n",
       "\n",
       "    .dataframe thead th {\n",
       "        text-align: right;\n",
       "    }\n",
       "</style>\n",
       "<table border=\"1\" class=\"dataframe\">\n",
       "  <thead>\n",
       "    <tr style=\"text-align: right;\">\n",
       "      <th></th>\n",
       "      <th>year</th>\n",
       "      <th>weekofyear</th>\n",
       "      <th>total_cases</th>\n",
       "    </tr>\n",
       "    <tr>\n",
       "      <th>city</th>\n",
       "      <th></th>\n",
       "      <th></th>\n",
       "      <th></th>\n",
       "    </tr>\n",
       "  </thead>\n",
       "  <tbody>\n",
       "    <tr>\n",
       "      <th>iq</th>\n",
       "      <td>2010</td>\n",
       "      <td>26</td>\n",
       "      <td>4</td>\n",
       "    </tr>\n",
       "    <tr>\n",
       "      <th>iq</th>\n",
       "      <td>2010</td>\n",
       "      <td>27</td>\n",
       "      <td>6</td>\n",
       "    </tr>\n",
       "    <tr>\n",
       "      <th>iq</th>\n",
       "      <td>2010</td>\n",
       "      <td>28</td>\n",
       "      <td>4</td>\n",
       "    </tr>\n",
       "    <tr>\n",
       "      <th>iq</th>\n",
       "      <td>2010</td>\n",
       "      <td>29</td>\n",
       "      <td>1</td>\n",
       "    </tr>\n",
       "    <tr>\n",
       "      <th>iq</th>\n",
       "      <td>2010</td>\n",
       "      <td>30</td>\n",
       "      <td>4</td>\n",
       "    </tr>\n",
       "  </tbody>\n",
       "</table>\n",
       "</div>"
      ],
      "text/plain": [
       "      year  weekofyear  total_cases\n",
       "city                               \n",
       "iq    2010          26            4\n",
       "iq    2010          27            6\n",
       "iq    2010          28            4\n",
       "iq    2010          29            1\n",
       "iq    2010          30            4"
      ]
     },
     "execution_count": 14,
     "metadata": {},
     "output_type": "execute_result"
    }
   ],
   "source": [
    "submission.head()"
   ]
  },
  {
   "cell_type": "code",
   "execution_count": 15,
   "id": "02d50eef",
   "metadata": {},
   "outputs": [],
   "source": [
    "submission.to_csv('iq_MLP_predictions.csv')"
   ]
  },
  {
   "cell_type": "code",
   "execution_count": null,
   "id": "ff5b0282",
   "metadata": {},
   "outputs": [],
   "source": []
  }
 ],
 "metadata": {
  "kernelspec": {
   "display_name": "Python 3 (ipykernel)",
   "language": "python",
   "name": "python3"
  },
  "language_info": {
   "codemirror_mode": {
    "name": "ipython",
    "version": 3
   },
   "file_extension": ".py",
   "mimetype": "text/x-python",
   "name": "python",
   "nbconvert_exporter": "python",
   "pygments_lexer": "ipython3",
   "version": "3.9.15"
  }
 },
 "nbformat": 4,
 "nbformat_minor": 5
}
