{
 "cells": [
  {
   "cell_type": "code",
   "execution_count": 65,
   "id": "24f0b693",
   "metadata": {},
   "outputs": [],
   "source": [
    "import pandas as pd\n",
    "import numpy as np\n",
    "from tensorflow.keras.models import load_model"
   ]
  },
  {
   "cell_type": "code",
   "execution_count": 66,
   "id": "04d15fef",
   "metadata": {},
   "outputs": [],
   "source": [
    "## ---- Notebook Variables ---- ##\n",
    "nb_variables = {'window': 4}"
   ]
  },
  {
   "cell_type": "code",
   "execution_count": 67,
   "id": "aeed88c7",
   "metadata": {},
   "outputs": [],
   "source": [
    "# ---- Testing ---- #\n",
    "x_test = pd.read_csv('../dengue_features_test.csv', index_col = 0)\n",
    "x_test = x_test.loc['sj']\n",
    "x_test = x_test.set_index('week_start_date')\n",
    "x_test.index = pd.to_datetime(x_test.index)\n",
    "x_test.sort_index(inplace = True)"
   ]
  },
  {
   "cell_type": "code",
   "execution_count": 68,
   "id": "0269d5d6",
   "metadata": {},
   "outputs": [],
   "source": [
    "## ----- Further Data Engineering (Same as Training Set)----- ##"
   ]
  },
  {
   "cell_type": "code",
   "execution_count": 69,
   "id": "da081523",
   "metadata": {},
   "outputs": [],
   "source": [
    "x_test.drop(['ndvi_ne', 'ndvi_nw'], axis = 1, inplace = True)\n",
    "x_test.drop('reanalysis_sat_precip_amt_mm', axis = 1, inplace = True)\n",
    "x_test[['reanalysis_air_temp_k', 'reanalysis_avg_temp_k', 'reanalysis_dew_point_temp_k',\n",
    "        'reanalysis_max_air_temp_k', 'reanalysis_min_air_temp_k']] += -273.15"
   ]
  },
  {
   "cell_type": "code",
   "execution_count": 70,
   "id": "8c9d4420",
   "metadata": {},
   "outputs": [],
   "source": [
    "min_temp = pd.Series(np.mean(x_test[[col for col in x_test.columns if '_min_' in col]].values, axis = 1))\n",
    "min_temp.index = x_test.index\n",
    "x_test['min_temp'] = min_temp\n",
    "x_test.drop([col for col in x_test.columns if '_min_' in col], axis = 1, inplace = True)"
   ]
  },
  {
   "cell_type": "code",
   "execution_count": 71,
   "id": "e32c169d",
   "metadata": {},
   "outputs": [],
   "source": [
    "max_temp = pd.Series(np.mean(x_test[[col for col in x_test.columns if '_max_' in col]].values, axis = 1))\n",
    "max_temp.index = x_test.index\n",
    "x_test['max_temp'] = max_temp\n",
    "x_test.drop([col for col in x_test.columns if '_max_' in col], axis = 1, inplace = True)"
   ]
  },
  {
   "cell_type": "code",
   "execution_count": 72,
   "id": "15e4beaa",
   "metadata": {},
   "outputs": [],
   "source": [
    "reanalysis_avg_temp_c = pd.Series(np.mean(x_test[['reanalysis_avg_temp_k', 'reanalysis_air_temp_k']], axis = 1))\n",
    "reanalysis_avg_temp_c.index = x_test.index\n",
    "x_test['reanalysis_avg_temp_c'] = reanalysis_avg_temp_c\n",
    "x_test.drop(['reanalysis_avg_temp_k', 'reanalysis_air_temp_k'], axis = 1, inplace = True)"
   ]
  },
  {
   "cell_type": "code",
   "execution_count": 73,
   "id": "64e2999a",
   "metadata": {},
   "outputs": [],
   "source": [
    "cols = x_test.columns.tolist()\n",
    "cols = cols[-3:] + cols[:-3]"
   ]
  },
  {
   "cell_type": "code",
   "execution_count": 74,
   "id": "f2a78db8",
   "metadata": {},
   "outputs": [],
   "source": [
    "df = pd.read_csv('df_for_testing.csv', index_col = 0)\n",
    "df.index = pd.to_datetime(df.index)\n",
    "df.sort_index(inplace = True)"
   ]
  },
  {
   "cell_type": "code",
   "execution_count": 75,
   "id": "7c867b57",
   "metadata": {},
   "outputs": [],
   "source": [
    "# Importan line for later. WE KEEP IT!\n",
    "dates_needed = df.index[df.index < x_test.index[0]][-nb_variables['window']:]\n",
    "rows_needed = df.loc[dates_needed].drop('total_cases', axis = 1)"
   ]
  },
  {
   "cell_type": "code",
   "execution_count": 76,
   "id": "2dc36934",
   "metadata": {},
   "outputs": [
    {
     "data": {
      "text/html": [
       "<div>\n",
       "<style scoped>\n",
       "    .dataframe tbody tr th:only-of-type {\n",
       "        vertical-align: middle;\n",
       "    }\n",
       "\n",
       "    .dataframe tbody tr th {\n",
       "        vertical-align: top;\n",
       "    }\n",
       "\n",
       "    .dataframe thead th {\n",
       "        text-align: right;\n",
       "    }\n",
       "</style>\n",
       "<table border=\"1\" class=\"dataframe\">\n",
       "  <thead>\n",
       "    <tr style=\"text-align: right;\">\n",
       "      <th></th>\n",
       "      <th>year</th>\n",
       "      <th>weekofyear</th>\n",
       "      <th>ndvi_se</th>\n",
       "      <th>ndvi_sw</th>\n",
       "      <th>precipitation_amt_mm</th>\n",
       "      <th>reanalysis_dew_point_temp_k</th>\n",
       "      <th>reanalysis_precip_amt_kg_per_m2</th>\n",
       "      <th>reanalysis_relative_humidity_percent</th>\n",
       "      <th>reanalysis_specific_humidity_g_per_kg</th>\n",
       "      <th>reanalysis_tdtr_k</th>\n",
       "      <th>station_avg_temp_c</th>\n",
       "      <th>station_diur_temp_rng_c</th>\n",
       "      <th>station_precip_mm</th>\n",
       "      <th>min_temp</th>\n",
       "      <th>max_temp</th>\n",
       "      <th>reanalysis_avg_temp_c</th>\n",
       "    </tr>\n",
       "    <tr>\n",
       "      <th>week_start_date</th>\n",
       "      <th></th>\n",
       "      <th></th>\n",
       "      <th></th>\n",
       "      <th></th>\n",
       "      <th></th>\n",
       "      <th></th>\n",
       "      <th></th>\n",
       "      <th></th>\n",
       "      <th></th>\n",
       "      <th></th>\n",
       "      <th></th>\n",
       "      <th></th>\n",
       "      <th></th>\n",
       "      <th></th>\n",
       "      <th></th>\n",
       "      <th></th>\n",
       "    </tr>\n",
       "  </thead>\n",
       "  <tbody>\n",
       "    <tr>\n",
       "      <th>2008-04-01</th>\n",
       "      <td>2008</td>\n",
       "      <td>14</td>\n",
       "      <td>0.119371</td>\n",
       "      <td>0.066386</td>\n",
       "      <td>3.82</td>\n",
       "      <td>20.085714</td>\n",
       "      <td>3.67</td>\n",
       "      <td>74.600000</td>\n",
       "      <td>14.662857</td>\n",
       "      <td>2.714286</td>\n",
       "      <td>26.242857</td>\n",
       "      <td>6.814286</td>\n",
       "      <td>0.5</td>\n",
       "      <td>22.775</td>\n",
       "      <td>28.625</td>\n",
       "      <td>25.005000</td>\n",
       "    </tr>\n",
       "    <tr>\n",
       "      <th>2008-04-08</th>\n",
       "      <td>2008</td>\n",
       "      <td>15</td>\n",
       "      <td>0.137757</td>\n",
       "      <td>0.141214</td>\n",
       "      <td>16.96</td>\n",
       "      <td>19.582857</td>\n",
       "      <td>35.00</td>\n",
       "      <td>75.027143</td>\n",
       "      <td>14.184286</td>\n",
       "      <td>2.185714</td>\n",
       "      <td>25.000000</td>\n",
       "      <td>5.714286</td>\n",
       "      <td>30.7</td>\n",
       "      <td>22.175</td>\n",
       "      <td>27.825</td>\n",
       "      <td>24.362143</td>\n",
       "    </tr>\n",
       "    <tr>\n",
       "      <th>2008-04-15</th>\n",
       "      <td>2008</td>\n",
       "      <td>16</td>\n",
       "      <td>0.203900</td>\n",
       "      <td>0.209843</td>\n",
       "      <td>0.00</td>\n",
       "      <td>19.124286</td>\n",
       "      <td>4.82</td>\n",
       "      <td>72.285714</td>\n",
       "      <td>13.858571</td>\n",
       "      <td>2.785714</td>\n",
       "      <td>25.314286</td>\n",
       "      <td>6.242857</td>\n",
       "      <td>11.2</td>\n",
       "      <td>22.225</td>\n",
       "      <td>27.975</td>\n",
       "      <td>24.554286</td>\n",
       "    </tr>\n",
       "    <tr>\n",
       "      <th>2008-04-22</th>\n",
       "      <td>2008</td>\n",
       "      <td>17</td>\n",
       "      <td>0.077314</td>\n",
       "      <td>0.090586</td>\n",
       "      <td>0.00</td>\n",
       "      <td>21.130000</td>\n",
       "      <td>2.17</td>\n",
       "      <td>76.960000</td>\n",
       "      <td>15.671429</td>\n",
       "      <td>3.957143</td>\n",
       "      <td>27.042857</td>\n",
       "      <td>7.514286</td>\n",
       "      <td>0.3</td>\n",
       "      <td>23.025</td>\n",
       "      <td>29.725</td>\n",
       "      <td>25.532857</td>\n",
       "    </tr>\n",
       "  </tbody>\n",
       "</table>\n",
       "</div>"
      ],
      "text/plain": [
       "                 year  weekofyear   ndvi_se   ndvi_sw  precipitation_amt_mm  \\\n",
       "week_start_date                                                               \n",
       "2008-04-01       2008          14  0.119371  0.066386                  3.82   \n",
       "2008-04-08       2008          15  0.137757  0.141214                 16.96   \n",
       "2008-04-15       2008          16  0.203900  0.209843                  0.00   \n",
       "2008-04-22       2008          17  0.077314  0.090586                  0.00   \n",
       "\n",
       "                 reanalysis_dew_point_temp_k  reanalysis_precip_amt_kg_per_m2  \\\n",
       "week_start_date                                                                 \n",
       "2008-04-01                         20.085714                             3.67   \n",
       "2008-04-08                         19.582857                            35.00   \n",
       "2008-04-15                         19.124286                             4.82   \n",
       "2008-04-22                         21.130000                             2.17   \n",
       "\n",
       "                 reanalysis_relative_humidity_percent  \\\n",
       "week_start_date                                         \n",
       "2008-04-01                                  74.600000   \n",
       "2008-04-08                                  75.027143   \n",
       "2008-04-15                                  72.285714   \n",
       "2008-04-22                                  76.960000   \n",
       "\n",
       "                 reanalysis_specific_humidity_g_per_kg  reanalysis_tdtr_k  \\\n",
       "week_start_date                                                             \n",
       "2008-04-01                                   14.662857           2.714286   \n",
       "2008-04-08                                   14.184286           2.185714   \n",
       "2008-04-15                                   13.858571           2.785714   \n",
       "2008-04-22                                   15.671429           3.957143   \n",
       "\n",
       "                 station_avg_temp_c  station_diur_temp_rng_c  \\\n",
       "week_start_date                                                \n",
       "2008-04-01                26.242857                 6.814286   \n",
       "2008-04-08                25.000000                 5.714286   \n",
       "2008-04-15                25.314286                 6.242857   \n",
       "2008-04-22                27.042857                 7.514286   \n",
       "\n",
       "                 station_precip_mm  min_temp  max_temp  reanalysis_avg_temp_c  \n",
       "week_start_date                                                                \n",
       "2008-04-01                     0.5    22.775    28.625              25.005000  \n",
       "2008-04-08                    30.7    22.175    27.825              24.362143  \n",
       "2008-04-15                    11.2    22.225    27.975              24.554286  \n",
       "2008-04-22                     0.3    23.025    29.725              25.532857  "
      ]
     },
     "execution_count": 76,
     "metadata": {},
     "output_type": "execute_result"
    }
   ],
   "source": [
    "rows_needed"
   ]
  },
  {
   "cell_type": "code",
   "execution_count": 77,
   "id": "18cc85fc",
   "metadata": {},
   "outputs": [
    {
     "data": {
      "text/plain": [
       "(264, 16)"
      ]
     },
     "execution_count": 77,
     "metadata": {},
     "output_type": "execute_result"
    }
   ],
   "source": [
    "x_test = pd.concat([rows_needed, x_test], axis = 0)\n",
    "x_test.shape"
   ]
  },
  {
   "cell_type": "code",
   "execution_count": 78,
   "id": "866414b4",
   "metadata": {},
   "outputs": [
    {
     "name": "stdout",
     "output_type": "stream",
     "text": [
      "- Percentage of missing values across the entire dataset 0.62% \n",
      "\n",
      "- New percentage of missing values across the entire dataset 0.05%\n"
     ]
    }
   ],
   "source": [
    "perc = np.round(100 * x_test.isna().sum().sum() / (len(x_test) * len(x_test.columns)), 2)\n",
    "print(f'- Percentage of missing values across the entire dataset {perc}% \\n')\n",
    "\n",
    "for col in x_test.columns[:-1]: # exclude the label variable\n",
    "    x_test[col] = x_test[col].fillna(x_test.rolling(window = nb_variables['window'],\n",
    "                                                    min_periods = 1).mean()[col])\n",
    "    \n",
    "new_perc = np.round(100 * x_test.isna().sum().sum() / (len(x_test) * len(x_test.columns)), 2)\n",
    "print(f'- New percentage of missing values across the entire dataset {new_perc}%')"
   ]
  },
  {
   "cell_type": "code",
   "execution_count": 79,
   "id": "2744431e",
   "metadata": {},
   "outputs": [
    {
     "name": "stdout",
     "output_type": "stream",
     "text": [
      "- Percentage of missing values across the entire dataset 0.0%\n"
     ]
    }
   ],
   "source": [
    "x_test = x_test.fillna(0)\n",
    "new_perc = np.round(100 * x_test.isna().sum().sum() / (len(x_test) * len(x_test.columns)), 2)\n",
    "print(f'- Percentage of missing values across the entire dataset {new_perc}%')"
   ]
  },
  {
   "cell_type": "code",
   "execution_count": 80,
   "id": "804a9b8b",
   "metadata": {},
   "outputs": [
    {
     "data": {
      "text/plain": [
       "(264, 16)"
      ]
     },
     "execution_count": 80,
     "metadata": {},
     "output_type": "execute_result"
    }
   ],
   "source": [
    "x_test.shape"
   ]
  },
  {
   "cell_type": "code",
   "execution_count": 81,
   "id": "baac89f9",
   "metadata": {},
   "outputs": [],
   "source": [
    "window = nb_variables['window']\n",
    "xin_test = []\n",
    "for i in range(window, len(x_test)):\n",
    "    xin_test.append(x_test.values[i - window : i, :])\n",
    "    \n",
    "xin_test = np.array(xin_test)"
   ]
  },
  {
   "cell_type": "code",
   "execution_count": 82,
   "id": "dd6f52a6",
   "metadata": {},
   "outputs": [
    {
     "data": {
      "text/plain": [
       "(260, 4, 16)"
      ]
     },
     "execution_count": 82,
     "metadata": {},
     "output_type": "execute_result"
    }
   ],
   "source": [
    "xin_test.shape"
   ]
  },
  {
   "cell_type": "code",
   "execution_count": 83,
   "id": "8ec7883f",
   "metadata": {},
   "outputs": [
    {
     "name": "stdout",
     "output_type": "stream",
     "text": [
      "9/9 [==============================] - 0s 1ms/step\n"
     ]
    },
    {
     "data": {
      "text/plain": [
       "(260, 1)"
      ]
     },
     "execution_count": 83,
     "metadata": {},
     "output_type": "execute_result"
    }
   ],
   "source": [
    "model = load_model('../models/sj_lstm.keras')\n",
    "predictions = model.predict(xin_test)\n",
    "predictions = np.round(predictions).astype('int32')\n",
    "predictions[predictions < 0] = 0\n",
    "predictions.shape"
   ]
  },
  {
   "cell_type": "code",
   "execution_count": 84,
   "id": "3e540b8c",
   "metadata": {},
   "outputs": [
    {
     "data": {
      "text/html": [
       "<div>\n",
       "<style scoped>\n",
       "    .dataframe tbody tr th:only-of-type {\n",
       "        vertical-align: middle;\n",
       "    }\n",
       "\n",
       "    .dataframe tbody tr th {\n",
       "        vertical-align: top;\n",
       "    }\n",
       "\n",
       "    .dataframe thead th {\n",
       "        text-align: right;\n",
       "    }\n",
       "</style>\n",
       "<table border=\"1\" class=\"dataframe\">\n",
       "  <thead>\n",
       "    <tr style=\"text-align: right;\">\n",
       "      <th></th>\n",
       "      <th>year</th>\n",
       "      <th>weekofyear</th>\n",
       "    </tr>\n",
       "    <tr>\n",
       "      <th>city</th>\n",
       "      <th></th>\n",
       "      <th></th>\n",
       "    </tr>\n",
       "  </thead>\n",
       "  <tbody>\n",
       "    <tr>\n",
       "      <th>sj</th>\n",
       "      <td>2008</td>\n",
       "      <td>18</td>\n",
       "    </tr>\n",
       "    <tr>\n",
       "      <th>sj</th>\n",
       "      <td>2008</td>\n",
       "      <td>19</td>\n",
       "    </tr>\n",
       "    <tr>\n",
       "      <th>sj</th>\n",
       "      <td>2008</td>\n",
       "      <td>20</td>\n",
       "    </tr>\n",
       "    <tr>\n",
       "      <th>sj</th>\n",
       "      <td>2008</td>\n",
       "      <td>21</td>\n",
       "    </tr>\n",
       "    <tr>\n",
       "      <th>sj</th>\n",
       "      <td>2008</td>\n",
       "      <td>22</td>\n",
       "    </tr>\n",
       "  </tbody>\n",
       "</table>\n",
       "</div>"
      ],
      "text/plain": [
       "      year  weekofyear\n",
       "city                  \n",
       "sj    2008          18\n",
       "sj    2008          19\n",
       "sj    2008          20\n",
       "sj    2008          21\n",
       "sj    2008          22"
      ]
     },
     "execution_count": 84,
     "metadata": {},
     "output_type": "execute_result"
    }
   ],
   "source": [
    "submission = pd.read_csv('../dengue_features_test.csv', index_col = 0)\n",
    "submission = submission.loc['sj']\n",
    "submission = submission.loc[:, ['year', 'weekofyear']]\n",
    "submission.head()"
   ]
  },
  {
   "cell_type": "code",
   "execution_count": 85,
   "id": "73203f79",
   "metadata": {},
   "outputs": [],
   "source": [
    "predictions = pd.Series(predictions.reshape(-1))\n",
    "predictions.index = submission.index\n",
    "submission = pd.concat([submission, predictions], axis = 1)\n",
    "submission.columns = ['year', 'weekofyear', 'total_cases']"
   ]
  },
  {
   "cell_type": "code",
   "execution_count": 86,
   "id": "b0ff871c",
   "metadata": {},
   "outputs": [
    {
     "data": {
      "text/html": [
       "<div>\n",
       "<style scoped>\n",
       "    .dataframe tbody tr th:only-of-type {\n",
       "        vertical-align: middle;\n",
       "    }\n",
       "\n",
       "    .dataframe tbody tr th {\n",
       "        vertical-align: top;\n",
       "    }\n",
       "\n",
       "    .dataframe thead th {\n",
       "        text-align: right;\n",
       "    }\n",
       "</style>\n",
       "<table border=\"1\" class=\"dataframe\">\n",
       "  <thead>\n",
       "    <tr style=\"text-align: right;\">\n",
       "      <th></th>\n",
       "      <th>year</th>\n",
       "      <th>weekofyear</th>\n",
       "      <th>total_cases</th>\n",
       "    </tr>\n",
       "    <tr>\n",
       "      <th>city</th>\n",
       "      <th></th>\n",
       "      <th></th>\n",
       "      <th></th>\n",
       "    </tr>\n",
       "  </thead>\n",
       "  <tbody>\n",
       "    <tr>\n",
       "      <th>sj</th>\n",
       "      <td>2008</td>\n",
       "      <td>18</td>\n",
       "      <td>26</td>\n",
       "    </tr>\n",
       "    <tr>\n",
       "      <th>sj</th>\n",
       "      <td>2008</td>\n",
       "      <td>19</td>\n",
       "      <td>27</td>\n",
       "    </tr>\n",
       "    <tr>\n",
       "      <th>sj</th>\n",
       "      <td>2008</td>\n",
       "      <td>20</td>\n",
       "      <td>26</td>\n",
       "    </tr>\n",
       "    <tr>\n",
       "      <th>sj</th>\n",
       "      <td>2008</td>\n",
       "      <td>21</td>\n",
       "      <td>24</td>\n",
       "    </tr>\n",
       "    <tr>\n",
       "      <th>sj</th>\n",
       "      <td>2008</td>\n",
       "      <td>22</td>\n",
       "      <td>26</td>\n",
       "    </tr>\n",
       "  </tbody>\n",
       "</table>\n",
       "</div>"
      ],
      "text/plain": [
       "      year  weekofyear  total_cases\n",
       "city                               \n",
       "sj    2008          18           26\n",
       "sj    2008          19           27\n",
       "sj    2008          20           26\n",
       "sj    2008          21           24\n",
       "sj    2008          22           26"
      ]
     },
     "execution_count": 86,
     "metadata": {},
     "output_type": "execute_result"
    }
   ],
   "source": [
    "submission.head()"
   ]
  },
  {
   "cell_type": "code",
   "execution_count": 87,
   "id": "687a7a58",
   "metadata": {},
   "outputs": [],
   "source": [
    "submission.to_csv('San_Juan_LSTM_predictions.csv')"
   ]
  },
  {
   "cell_type": "code",
   "execution_count": null,
   "id": "e86a22b4",
   "metadata": {},
   "outputs": [],
   "source": []
  }
 ],
 "metadata": {
  "kernelspec": {
   "display_name": "Python 3 (ipykernel)",
   "language": "python",
   "name": "python3"
  },
  "language_info": {
   "codemirror_mode": {
    "name": "ipython",
    "version": 3
   },
   "file_extension": ".py",
   "mimetype": "text/x-python",
   "name": "python",
   "nbconvert_exporter": "python",
   "pygments_lexer": "ipython3",
   "version": "3.9.15"
  }
 },
 "nbformat": 4,
 "nbformat_minor": 5
}
