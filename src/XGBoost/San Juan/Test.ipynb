{
 "cells": [
  {
   "cell_type": "markdown",
   "id": "b7d9ccba",
   "metadata": {},
   "source": [
    "# - Test Time"
   ]
  },
  {
   "cell_type": "code",
   "execution_count": 44,
   "id": "1ba9cc19",
   "metadata": {},
   "outputs": [],
   "source": [
    "import mlflow\n",
    "anomaly_detector = 'mlruns/0/294270d5d6b043a4a45b739a7cd7f8ae/artifacts/Anomaly Detector'\n",
    "anomaly_reg = 'mlruns/0/294270d5d6b043a4a45b739a7cd7f8ae/artifacts/Anomaly Regressor'\n",
    "regressor = 'mlruns/0/294270d5d6b043a4a45b739a7cd7f8ae/artifacts/XGBoostRegressor'\n",
    "\n",
    "anomaly_detector = mlflow.pyfunc.load_model(anomaly_detector)\n",
    "anomaly_reg = mlflow.pyfunc.load_model(anomaly_reg)\n",
    "regressor = mlflow.pyfunc.load_model(regressor)"
   ]
  },
  {
   "cell_type": "code",
   "execution_count": 45,
   "id": "b1e5a913",
   "metadata": {},
   "outputs": [],
   "source": [
    "import pandas as pd\n",
    "import numpy as np\n",
    "import warnings\n",
    "import matplotlib.pyplot as plt\n",
    "warnings.filterwarnings(\"ignore\")"
   ]
  },
  {
   "cell_type": "markdown",
   "id": "c6c29b17",
   "metadata": {},
   "source": [
    "## - Import some functions to reduce the size of the notebooks"
   ]
  },
  {
   "cell_type": "code",
   "execution_count": 46,
   "id": "209a61a2",
   "metadata": {},
   "outputs": [],
   "source": [
    "import os\n",
    "import sys\n",
    "module_path = os.path.abspath(os.path.join('../../utils'))\n",
    "if module_path not in sys.path:\n",
    "    sys.path.append(module_path)\n",
    "\n",
    "from helper_functions import *"
   ]
  },
  {
   "cell_type": "code",
   "execution_count": 47,
   "id": "b6a8f4ba",
   "metadata": {},
   "outputs": [],
   "source": [
    "nb_variables = {'window': 5, 'shift': -3}"
   ]
  },
  {
   "cell_type": "code",
   "execution_count": 48,
   "id": "380cb8c8",
   "metadata": {},
   "outputs": [],
   "source": [
    "# ---- Testing ---- #\n",
    "x_test = pd.read_csv('../../../dengue_features_test.csv', index_col = 0)\n",
    "x_test = x_test.loc['sj']\n",
    "x_test = x_test.set_index('week_start_date')\n",
    "x_test.index = pd.to_datetime(x_test.index)\n",
    "x_test.sort_index(inplace = True)"
   ]
  },
  {
   "cell_type": "code",
   "execution_count": 49,
   "id": "fddd88ca",
   "metadata": {},
   "outputs": [
    {
     "name": "stdout",
     "output_type": "stream",
     "text": [
      "Filling NA values with the running mean of 4 previous values (window = 5) \n",
      "\n",
      "- The amount of NAs was reduced to 0.03% \n",
      "\n",
      "- For the next step we will fill the remaining NAs with zeroes \n",
      "\n",
      "Filling NA values with 0 \n",
      "\n",
      "- The amount of NAs was reduced to 0.0% \n",
      "\n",
      "- No more NA values left \n",
      "\n"
     ]
    }
   ],
   "source": [
    "x_test = fill_values(x_test, nb_variables['window'], give_info = True)"
   ]
  },
  {
   "cell_type": "code",
   "execution_count": 50,
   "id": "c0e9f57e",
   "metadata": {},
   "outputs": [],
   "source": [
    "columns_to_drop = np.array(['ndvi_ne', 'ndvi_nw', 'precipitation_amt_mm',\n",
    "                            'reanalysis_sat_precip_amt_mm', 'reanalysis_tdtr_k',\n",
    "                            'station_diur_temp_rng_c', 'station_precip_mm'])\n",
    "x_test.drop(columns_to_drop, axis = 1, inplace = True)"
   ]
  },
  {
   "cell_type": "markdown",
   "id": "7fe5725e",
   "metadata": {},
   "source": [
    "# - Shift the test data like the training data"
   ]
  },
  {
   "cell_type": "code",
   "execution_count": 51,
   "id": "a90ed591",
   "metadata": {},
   "outputs": [],
   "source": [
    "new_df = n_step_shift(x_test, nb_variables['shift'])"
   ]
  },
  {
   "cell_type": "code",
   "execution_count": 52,
   "id": "516279ed",
   "metadata": {},
   "outputs": [
    {
     "data": {
      "text/plain": [
       "(257, 60)"
      ]
     },
     "execution_count": 52,
     "metadata": {},
     "output_type": "execute_result"
    }
   ],
   "source": [
    "new_df.shape"
   ]
  },
  {
   "cell_type": "code",
   "execution_count": 53,
   "id": "46dc4349",
   "metadata": {},
   "outputs": [],
   "source": [
    "anomalies_detected = loaded_model.predict(new_df.iloc[:,-13:])\n",
    "new_df['anomaly'] = anomalies_detected"
   ]
  },
  {
   "cell_type": "code",
   "execution_count": 54,
   "id": "1d68859c",
   "metadata": {},
   "outputs": [],
   "source": [
    "preds = predictions(regressor, anomaly_reg, new_df)"
   ]
  },
  {
   "cell_type": "markdown",
   "id": "c2b0dd7f",
   "metadata": {},
   "source": [
    "- Add a row according to the mean of the last 4 predictions to match the dimension needed"
   ]
  },
  {
   "cell_type": "code",
   "execution_count": 57,
   "id": "7b475f54",
   "metadata": {},
   "outputs": [
    {
     "data": {
      "text/plain": [
       "(260,)"
      ]
     },
     "execution_count": 57,
     "metadata": {},
     "output_type": "execute_result"
    }
   ],
   "source": [
    "preds = fill_future_predictions(preds, nb_variables['shift'])\n",
    "preds.shape"
   ]
  },
  {
   "cell_type": "code",
   "execution_count": 58,
   "id": "b21ab81d",
   "metadata": {},
   "outputs": [
    {
     "data": {
      "text/html": [
       "<div>\n",
       "<style scoped>\n",
       "    .dataframe tbody tr th:only-of-type {\n",
       "        vertical-align: middle;\n",
       "    }\n",
       "\n",
       "    .dataframe tbody tr th {\n",
       "        vertical-align: top;\n",
       "    }\n",
       "\n",
       "    .dataframe thead th {\n",
       "        text-align: right;\n",
       "    }\n",
       "</style>\n",
       "<table border=\"1\" class=\"dataframe\">\n",
       "  <thead>\n",
       "    <tr style=\"text-align: right;\">\n",
       "      <th></th>\n",
       "      <th>year</th>\n",
       "      <th>weekofyear</th>\n",
       "    </tr>\n",
       "    <tr>\n",
       "      <th>city</th>\n",
       "      <th></th>\n",
       "      <th></th>\n",
       "    </tr>\n",
       "  </thead>\n",
       "  <tbody>\n",
       "    <tr>\n",
       "      <th>sj</th>\n",
       "      <td>2008</td>\n",
       "      <td>18</td>\n",
       "    </tr>\n",
       "    <tr>\n",
       "      <th>sj</th>\n",
       "      <td>2008</td>\n",
       "      <td>19</td>\n",
       "    </tr>\n",
       "    <tr>\n",
       "      <th>sj</th>\n",
       "      <td>2008</td>\n",
       "      <td>20</td>\n",
       "    </tr>\n",
       "    <tr>\n",
       "      <th>sj</th>\n",
       "      <td>2008</td>\n",
       "      <td>21</td>\n",
       "    </tr>\n",
       "    <tr>\n",
       "      <th>sj</th>\n",
       "      <td>2008</td>\n",
       "      <td>22</td>\n",
       "    </tr>\n",
       "  </tbody>\n",
       "</table>\n",
       "</div>"
      ],
      "text/plain": [
       "      year  weekofyear\n",
       "city                  \n",
       "sj    2008          18\n",
       "sj    2008          19\n",
       "sj    2008          20\n",
       "sj    2008          21\n",
       "sj    2008          22"
      ]
     },
     "execution_count": 58,
     "metadata": {},
     "output_type": "execute_result"
    }
   ],
   "source": [
    "submission = pd.read_csv('../../../dengue_features_test.csv', index_col = 0)\n",
    "submission = submission.loc['sj']\n",
    "submission = submission.loc[:, ['year', 'weekofyear']]\n",
    "submission.head()"
   ]
  },
  {
   "cell_type": "code",
   "execution_count": 61,
   "id": "f94c6811",
   "metadata": {},
   "outputs": [],
   "source": [
    "preds = pd.Series(preds.reshape(-1))\n",
    "preds.index = submission.index\n",
    "submission = pd.concat([submission, preds], axis = 1)\n",
    "submission.columns = ['year', 'weekofyear', 'total_cases']"
   ]
  },
  {
   "cell_type": "code",
   "execution_count": 62,
   "id": "6d782533",
   "metadata": {},
   "outputs": [
    {
     "data": {
      "text/html": [
       "<div>\n",
       "<style scoped>\n",
       "    .dataframe tbody tr th:only-of-type {\n",
       "        vertical-align: middle;\n",
       "    }\n",
       "\n",
       "    .dataframe tbody tr th {\n",
       "        vertical-align: top;\n",
       "    }\n",
       "\n",
       "    .dataframe thead th {\n",
       "        text-align: right;\n",
       "    }\n",
       "</style>\n",
       "<table border=\"1\" class=\"dataframe\">\n",
       "  <thead>\n",
       "    <tr style=\"text-align: right;\">\n",
       "      <th></th>\n",
       "      <th>year</th>\n",
       "      <th>weekofyear</th>\n",
       "      <th>total_cases</th>\n",
       "    </tr>\n",
       "    <tr>\n",
       "      <th>city</th>\n",
       "      <th></th>\n",
       "      <th></th>\n",
       "      <th></th>\n",
       "    </tr>\n",
       "  </thead>\n",
       "  <tbody>\n",
       "    <tr>\n",
       "      <th>sj</th>\n",
       "      <td>2008</td>\n",
       "      <td>18</td>\n",
       "      <td>65</td>\n",
       "    </tr>\n",
       "    <tr>\n",
       "      <th>sj</th>\n",
       "      <td>2008</td>\n",
       "      <td>19</td>\n",
       "      <td>14</td>\n",
       "    </tr>\n",
       "    <tr>\n",
       "      <th>sj</th>\n",
       "      <td>2008</td>\n",
       "      <td>20</td>\n",
       "      <td>14</td>\n",
       "    </tr>\n",
       "    <tr>\n",
       "      <th>sj</th>\n",
       "      <td>2008</td>\n",
       "      <td>21</td>\n",
       "      <td>19</td>\n",
       "    </tr>\n",
       "    <tr>\n",
       "      <th>sj</th>\n",
       "      <td>2008</td>\n",
       "      <td>22</td>\n",
       "      <td>36</td>\n",
       "    </tr>\n",
       "  </tbody>\n",
       "</table>\n",
       "</div>"
      ],
      "text/plain": [
       "      year  weekofyear  total_cases\n",
       "city                               \n",
       "sj    2008          18           65\n",
       "sj    2008          19           14\n",
       "sj    2008          20           14\n",
       "sj    2008          21           19\n",
       "sj    2008          22           36"
      ]
     },
     "execution_count": 62,
     "metadata": {},
     "output_type": "execute_result"
    }
   ],
   "source": [
    "submission.head()"
   ]
  },
  {
   "cell_type": "code",
   "execution_count": 63,
   "id": "44ff074f",
   "metadata": {},
   "outputs": [
    {
     "data": {
      "image/png": "[encoded data removed]",
      "text/plain": [
       "<Figure size 640x480 with 1 Axes>"
      ]
     },
     "metadata": {},
     "output_type": "display_data"
    }
   ],
   "source": [
    "plt.plot(range(len(submission['total_cases'])), submission['total_cases'])\n",
    "plt.show()"
   ]
  },
  {
   "cell_type": "code",
   "execution_count": 64,
   "id": "3fbddcfb",
   "metadata": {},
   "outputs": [],
   "source": [
    "submission.to_csv('sj_XGBoost_predictions.csv')"
   ]
  },
  {
   "cell_type": "code",
   "execution_count": null,
   "id": "bc69d3e2",
   "metadata": {},
   "outputs": [],
   "source": []
  }
 ],
 "metadata": {
  "kernelspec": {
   "display_name": "Python 3 (ipykernel)",
   "language": "python",
   "name": "python3"
  },
  "language_info": {
   "codemirror_mode": {
    "name": "ipython",
    "version": 3
   },
   "file_extension": ".py",
   "mimetype": "text/x-python",
   "name": "python",
   "nbconvert_exporter": "python",
   "pygments_lexer": "ipython3",
   "version": "3.9.15"
  }
 },
 "nbformat": 4,
 "nbformat_minor": 5
}
